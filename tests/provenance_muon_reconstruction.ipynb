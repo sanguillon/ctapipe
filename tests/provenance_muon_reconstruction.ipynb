{
 "cells": [
  {
   "cell_type": "markdown",
   "metadata": {},
   "source": [
    "# Test 6\n",
    "\n",
    "## Objective\n",
    "- The goal of this test is to have an idea of the existing tools to implement the provenance in a program of CTA using the ctapipe library\n",
    "\n",
    "## Context\n",
    "- This test is done with the muon_reconstruction.py program \n",
    "- This program uses ctapipe and provenance modules/libraries\n",
    "- The Provenance database is defined in memory and accessed with the sqlalchemy library\n",
    "\n",
    "## Structure of the notebook\n",
    "- Definition the Provenance database structure\n",
    "- Definition of the muon_reconstruction tool\n",
    "- Addition of the muon_reconstruction (named ctapipe_display_muons) activity description in the provenance database\n",
    "- Execution of the muon_reconstruction program\n",
    "- Addition of the provenance information of the job in the database\n",
    "- Query the provenance database and store the result in a file\n",
    "\n",
    "## Remarks\n",
    "- Activity.activityDescription = concat(activity_name, '_', ctapipe_version)\n",
    "- Entity.id = hash(file)\n",
    "- Used.id, WasGeneratedBy.id, WasAttributedTo.id, WasAssociatedWith.id are interger and autoincremented\n",
    "- A lot of empty fields and problem to associate Entity with EntityDescription\n",
    "- Dates are curreuntly stored as strings\n",
    "- Inheritance is implemented as jouned table inheritance (dependant tables) => addition of the classType attribute in the Entity and EntityDescription classes"
   ]
  },
  {
   "cell_type": "markdown",
   "metadata": {},
   "source": [
    "## Definition of the Provenance database structure"
   ]
  },
  {
   "cell_type": "code",
   "execution_count": 1,
   "metadata": {
    "collapsed": true
   },
   "outputs": [],
   "source": [
    "# Connect to the database (here in memory)\n",
    "from sqlalchemy import create_engine\n",
    "engine = create_engine('sqlite:///:memory:', echo=True)\n",
    "\n",
    "# Import sqlachemy modules to create objects mapped with tables\n",
    "from sqlalchemy import Table, Column, ForeignKey\n",
    "from sqlalchemy import Integer, String\n",
    "from sqlalchemy import exists\n",
    "from sqlalchemy.orm import relationship\n",
    "\n",
    "# Declare a declarative_base to map objets and tables\n",
    "from sqlalchemy.ext.declarative import declarative_base\n",
    "Base = declarative_base()\n"
   ]
  },
  {
   "cell_type": "markdown",
   "metadata": {},
   "source": [
    "## Remarks:\n",
    "- Need to add theclassType attribute to distinguish the inherited classes\n"
   ]
  },
  {
   "cell_type": "code",
   "execution_count": 2,
   "metadata": {
    "collapsed": true,
    "scrolled": false
   },
   "outputs": [],
   "source": [
    "# Define the Activity class mapped to the activities table\n",
    "class Activity(Base):\n",
    "    __tablename__ = 'activities'\n",
    "    ordered_attribute_list = ['id','name','startTime','endTime','comment','activityDescription_id']\n",
    "    id        = Column(String, primary_key=True)\n",
    "    name      = Column(String)\n",
    "    startTime = Column(String) \n",
    "    endTime   = Column(String)\n",
    "    comment   = Column(String) \n",
    "    activityDescription_id = Column(String, ForeignKey(\"activityDescriptions.id\"))\n",
    "    activityDescription    = relationship(\"ActivityDescription\")\n",
    "    def __repr__(self):\n",
    "        response = \"\"\n",
    "        for attribute in self.ordered_attribute_list:\n",
    "            response += \"Activity.%s=%s\\n\" %(attribute,self.__dict__[attribute])\n",
    "        return response\n",
    "    \n",
    "# Define the Entity class mapped to the entities table\n",
    "class Entity(Base):\n",
    "    __tablename__ = 'entities'\n",
    "    ordered_attribute_list = ['id','classType','name','location','generatedAtTime','invalidatedAtTime','comment','entityDescription_id' ]\n",
    "    id                  = Column(String, primary_key=True)\n",
    "    name                = Column(String)\n",
    "    location            = Column(String) \n",
    "    generatedAtTime     = Column(String)\n",
    "    invalidatedAtTime   = Column(String)\n",
    "    comment             = Column(String)\n",
    "    classType           = Column(String)\n",
    "    entityDescription_id   = Column(String, ForeignKey(\"entityDescriptions.id\")) \n",
    "    entityDescription      = relationship(\"EntityDescription\")\n",
    "    __mapper_args__ = {\n",
    "        'polymorphic_identity':'entity',\n",
    "        'polymorphic_on': classType\n",
    "    }\n",
    "    def __repr__(self):\n",
    "        response = \"\"\n",
    "        for attribute in self.ordered_attribute_list:\n",
    "            response += \"Entity.%s=%s\\n\" %(attribute,self.__dict__[attribute])\n",
    "        return response\n",
    "    "
   ]
  },
  {
   "cell_type": "code",
   "execution_count": 3,
   "metadata": {
    "collapsed": true
   },
   "outputs": [],
   "source": [
    "# Define the Used class mapped to the used table\n",
    "class Used(Base):\n",
    "    __tablename__ = 'used'\n",
    "    ordered_attribute_list = ['id','role','time','activity_id','entity_id']\n",
    "    id = Column(Integer, primary_key=True, autoincrement=True) \n",
    "    role     = Column(String, nullable=True)\n",
    "    time     = Column(String)\n",
    "    activity_id = Column(String, ForeignKey('activities.id'))\n",
    "    activity = relationship(\"Activity\")\n",
    "    entity_id = Column(String, ForeignKey('entities.id'))\n",
    "    entity = relationship(\"Entity\")\n",
    "    def __repr__(self):\n",
    "        response = \"\"\n",
    "        for attribute in self.ordered_attribute_list:\n",
    "            response += \"Used.%s=%s\\n\" %(attribute,self.__dict__[attribute])\n",
    "        return response\n",
    "    \n",
    "# Define the WasGeneratedBy class mapped to the wasGeneratedBy table\n",
    "class WasGeneratedBy(Base):\n",
    "    __tablename__ = 'wasGeneratedBy'\n",
    "    ordered_attribute_list = ['id','role','activity_id','entity_id']\n",
    "    id = Column(Integer, primary_key=True, autoincrement=True)\n",
    "    role     = Column(String, nullable=True)\n",
    "    activity_id = Column(String, ForeignKey('activities.id'))\n",
    "    activity = relationship(\"Activity\")\n",
    "    entity_id = Column(String, ForeignKey('entities.id'))\n",
    "    entity = relationship(\"Entity\")\n",
    "    def __repr__(self):\n",
    "        response = \"\"\n",
    "        for attribute in self.ordered_attribute_list:\n",
    "            response += \"WasGeneratedBy.%s=%s\\n\" %(attribute,self.__dict__[attribute])\n",
    "        return response"
   ]
  },
  {
   "cell_type": "markdown",
   "metadata": {},
   "source": [
    "## Remarks\n",
    "the value attribute is not the best name (keyword in some languages)"
   ]
  },
  {
   "cell_type": "code",
   "execution_count": 4,
   "metadata": {
    "collapsed": true
   },
   "outputs": [],
   "source": [
    "# Define the ValueEntity class mapped to the valueEntities table\n",
    "class ValueEntity(Entity):\n",
    "    __tablename__ = 'valueEntities'\n",
    "    #ordered_attribute_list = Entity.ordered_attribute_list+['value']\n",
    "    ordered_attribute_list = Entity.ordered_attribute_list\n",
    "    id = Column(String, ForeignKey('entities.id'), primary_key=True)\n",
    "    valueXX = Column(String)\n",
    "    __mapper_args__ = {'polymorphic_identity':'value'}\n",
    "    def __repr__(self):\n",
    "        response = \"\"\n",
    "        for attribute in self.ordered_attribute_list:\n",
    "            response += \"ValueEntity.%s=%s\\n\" %(attribute,self.__dict__[attribute])\n",
    "        return response\n",
    "    \n",
    "# Define the DatasetEntity class mapped to the datasetEntities table\n",
    "class DatasetEntity(Entity):\n",
    "    __tablename__ = 'datasetEntities'\n",
    "    ordered_attribute_list = Entity.ordered_attribute_list\n",
    "    id = Column(String, ForeignKey('entities.id'), primary_key=True)\n",
    "    __mapper_args__ = {'polymorphic_identity':'dataset'}\n",
    "    def __repr__(self):\n",
    "        response = \"\"\n",
    "        for attribute in self.ordered_attribute_list:\n",
    "            response += \"DatasetEntity.%s=%s\\n\" %(attribute,self.__dict__[attribute])\n",
    "        return response\n",
    "    \n",
    "# Define the Parameter class mapped to the parameters table\n",
    "class Parameter(ValueEntity):\n",
    "    __tablename__ = 'parameters'\n",
    "    #ordered_attribute_list = Entity.ordered_attribute_list + ['valueType', 'unit', 'ucd', 'utype']\n",
    "    ordered_attribute_list = Entity.ordered_attribute_list\n",
    "    id = Column(String, ForeignKey('valueEntities.id'), primary_key=True)\n",
    "    valueType = Column(String)\n",
    "    unit      = Column(String)\n",
    "    ucd       = Column(String)\n",
    "    utype     = Column(String)\n",
    "    __mapper_args__ = {'polymorphic_identity':'parameter'}\n",
    "    def __repr__(self):\n",
    "        response = \"\"\n",
    "        for attribute in self.ordered_attribute_list:\n",
    "            response += \"Parameter.%s=%s\\n\" %(attribute,self.__dict__[attribute])\n",
    "        return response"
   ]
  },
  {
   "cell_type": "code",
   "execution_count": 5,
   "metadata": {
    "collapsed": true
   },
   "outputs": [],
   "source": [
    "# Define the Agent class mapped to the agents table\n",
    "class Agent(Base):\n",
    "    __tablename__ = 'agents'\n",
    "    ordered_attribute_list = ['id','name','type','email','affiliation','phone','address']\n",
    "    id                  = Column(String, primary_key=True)\n",
    "    name                = Column(String)\n",
    "    type                = Column(String) \n",
    "    email               = Column(String)\n",
    "    affiliation         = Column(String)\n",
    "    phone               = Column(String)\n",
    "    address             = Column(String)\n",
    "    def __repr__(self):\n",
    "        response = \"\"\n",
    "        for attribute in self.ordered_attribute_list:\n",
    "            response += \"Agent.%s=%s\\n\" %(attribute,self.__dict__[attribute])\n",
    "        return response\n",
    "    \n",
    "# Define the WasAssociatedWith class mapped to the wasAssociatedWith table\n",
    "class WasAssociatedWith(Base):\n",
    "    __tablename__ = 'wasAssociatedWith'\n",
    "    ordered_attribute_list = ['id','activity','agent','role']\n",
    "    id       = Column(Integer, primary_key=True, autoincrement=True)\n",
    "    activity = Column(String, ForeignKey(\"activities.id\")) \n",
    "    agent    = Column(String, ForeignKey(\"agents.id\")) \n",
    "    role     = Column(String, nullable=True)\n",
    "    def __repr__(self):\n",
    "        response = \"\"\n",
    "        for attribute in self.ordered_attribute_list:\n",
    "            response += \"WasAssociatedWith.%s=%s\\n\" %(attribute,self.__dict__[attribute])\n",
    "        return response\n",
    "    \n",
    "# Define the WasAttributedTo class mapped to the wasAttributedTo table\n",
    "class WasAttributedTo(Base):\n",
    "    __tablename__ = 'wasAttributedTo'\n",
    "    ordered_attribute_list = ['id','entity','agent','role']\n",
    "    id       = Column(Integer, primary_key=True, autoincrement=True)\n",
    "    entity   = Column(String, ForeignKey(\"entities.id\")) \n",
    "    agent    = Column(String, ForeignKey(\"agents.id\")) \n",
    "    role     = Column(String, nullable=True)\n",
    "    def __repr__(self):\n",
    "        response = \"\"\n",
    "        for attribute in self.ordered_attribute_list:\n",
    "            response += \"WasAttributedTo.%s=%s\\n\" %(attribute,self.__dict__[attribute])\n",
    "        return response"
   ]
  },
  {
   "cell_type": "code",
   "execution_count": 6,
   "metadata": {
    "collapsed": true
   },
   "outputs": [],
   "source": [
    "# Define the ActivityDescription class mapped to the activityDescriptions table\n",
    "class ActivityDescription(Base):\n",
    "    __tablename__ = 'activityDescriptions'\n",
    "    ordered_attribute_list = ['id','name','activity_type','activity_subtype','version','doculink']\n",
    "    id                 = Column(String, primary_key=True)\n",
    "    name               = Column(String)\n",
    "    activity_type      = Column(String) \n",
    "    activity_subtype   = Column(String)\n",
    "    version            = Column(String)\n",
    "    doculink           = Column(String)\n",
    "    def __repr__(self):\n",
    "        response = \"\"\n",
    "        for attribute in self.ordered_attribute_list:\n",
    "            response += \"ActivityDescription.%s=%s\\n\" %(attribute,self.__dict__[attribute])\n",
    "        return response\n",
    "\n",
    "# Define the EntityDescription class mapped to the entityDescriptions table\n",
    "class EntityDescription(Base):\n",
    "    __tablename__ = 'entityDescriptions'\n",
    "    ordered_attribute_list = ['id','name','type','description','doculink','classType']\n",
    "    id                 = Column(String, primary_key=True)\n",
    "    name               = Column(String)\n",
    "    type               = Column(String)\n",
    "    description        = Column(String)\n",
    "    doculink           = Column(String)\n",
    "    classType         = Column(String)\n",
    "    __mapper_args__ = {\n",
    "        'polymorphic_identity':'entityDescription',\n",
    "        'polymorphic_on':classType\n",
    "    }\n",
    "    def __repr__(self):\n",
    "        response = \"\"\n",
    "        for attribute in self.ordered_attribute_list:\n",
    "            response += \"EntityDescription.%s=%s\\n\" %(attribute,self.__dict__[attribute])\n",
    "        return response"
   ]
  },
  {
   "cell_type": "code",
   "execution_count": 7,
   "metadata": {
    "collapsed": true
   },
   "outputs": [],
   "source": [
    "# Define the UsageDescription class mapped to the usageDescriptions table\n",
    "class UsageDescription(Base):\n",
    "    __tablename__ = 'usageDescriptions'\n",
    "    ordered_attribute_list = ['id','role','description','type','activityDescription_id','entityDescription_id']\n",
    "    id = Column(String, primary_key=True) \n",
    "    role        = Column(String, nullable=True)\n",
    "    description = Column(String)\n",
    "    type        = Column(String)  \n",
    "    activityDescription_id = Column(String, ForeignKey('activityDescriptions.id'))\n",
    "    activityDescription = relationship(\"ActivityDescription\")\n",
    "    entityDescription_id = Column(String, ForeignKey('entityDescriptions.id'))\n",
    "    entityDescription = relationship(\"EntityDescription\")\n",
    "    def __repr__(self):\n",
    "        response = \"\"\n",
    "        for attribute in self.ordered_attribute_list:\n",
    "            response += \"UsageDescription.%s=%s\\n\" %(attribute,self.__dict__[attribute])\n",
    "        return response\n",
    "    \n",
    "# Define the GenerationDescription class mapped to the generationDescriptions table\n",
    "class GenerationDescription(Base):\n",
    "    __tablename__ = 'generationDescriptions'\n",
    "    ordered_attribute_list = ['id','role','description','type','activityDescription_id','entityDescription_id']\n",
    "    id          = Column(String, primary_key=True)\n",
    "    role        = Column(String, nullable=True)\n",
    "    description = Column(String)\n",
    "    type        = Column(String)\n",
    "    # Relations\n",
    "    activityDescription_id = Column(String, ForeignKey('activityDescriptions.id'))\n",
    "    activityDescription = relationship(\"ActivityDescription\")\n",
    "    entityDescription_id = Column(String, ForeignKey('entityDescriptions.id'))\n",
    "    entityDescription = relationship(\"EntityDescription\")\n",
    "    def __repr__(self):\n",
    "        response = \"\"\n",
    "        for attribute in self.ordered_attribute_list:\n",
    "            response += \"GenerationDescription.%s=%s\\n\" %(attribute,self.__dict__[attribute])\n",
    "        return response\n",
    "    "
   ]
  },
  {
   "cell_type": "code",
   "execution_count": 8,
   "metadata": {
    "collapsed": true
   },
   "outputs": [],
   "source": [
    "# Define the ValueDescription class mapped to the valueDescriptions table\n",
    "class ValueDescription(EntityDescription):\n",
    "    __tablename__ = 'valueDescriptions'\n",
    "    #ordered_attribute_list = EntityDescription.ordered_attribute_list + ['valueType','unit','ucd','utype']\n",
    "    ordered_attribute_list = EntityDescription.ordered_attribute_list\n",
    "    id = Column(String, ForeignKey('entityDescriptions.id'), primary_key=True)\n",
    "    valueType = Column(String)\n",
    "    unit      = Column(String)\n",
    "    ucd       = Column(String)\n",
    "    utype     = Column(String)\n",
    "    __mapper_args__ = {'polymorphic_identity':'valueDescription'}\n",
    "    def __repr__(self):\n",
    "        response = \"\"\n",
    "        for attribute in self.ordered_attribute_list:\n",
    "            response += \"ValueDescription.%s=%s\\n\" %(attribute,self.__dict__[attribute])\n",
    "        return response\n",
    "    \n",
    "# Define the DatasetDescription class mapped to the datasetDescriptions table\n",
    "class DatasetDescription(EntityDescription):\n",
    "    __tablename__ = 'datasetDescriptions'\n",
    "    #ordered_attribute_list = EntityDescription.ordered_attribute_list + ['contentType']\n",
    "    ordered_attribute_list = EntityDescription.ordered_attribute_list\n",
    "    id = Column(String, ForeignKey('entityDescriptions.id'), primary_key=True)\n",
    "    contentType = Column(String)\n",
    "    __mapper_args__ = {'polymorphic_identity':'datasetDescription'}\n",
    "    def __repr__(self):\n",
    "        response = \"\"\n",
    "        for attribute in self.ordered_attribute_list:\n",
    "            response += \"DatasetDescription.%s=%s\\n\" %(attribute,self.__dict__[attribute])\n",
    "        return response\n",
    "    \n",
    "# Define the ParameterDescription class mapped to the parameterDescriptions table\n",
    "class ParameterDescription(ValueDescription):\n",
    "    __tablename__ = 'parameterDescriptions'\n",
    "    #ordered_attribute_list = ValueDescription.ordered_attribute_list + ['min','max','options','default']\n",
    "    ordered_attribute_list = EntityDescription.ordered_attribute_list\n",
    "    id = Column(String, ForeignKey('valueDescriptions.id'), primary_key=True)\n",
    "    min     = Column(String)\n",
    "    max     = Column(String)\n",
    "    options = Column(String)\n",
    "    default = Column(String)\n",
    "    __mapper_args__ = {'polymorphic_identity':'parameterDescription'}\n",
    "    def __repr__(self):\n",
    "        response = \"\"\n",
    "        for attribute in self.ordered_attribute_list:\n",
    "            response += \"ParameterDescription.%s=%s\\n\" %(attribute,self.__dict__[attribute])\n",
    "        return response"
   ]
  },
  {
   "cell_type": "code",
   "execution_count": 9,
   "metadata": {},
   "outputs": [
    {
     "name": "stdout",
     "output_type": "stream",
     "text": [
      "2019-04-02 09:40:35,739 INFO sqlalchemy.engine.base.Engine SELECT CAST('test plain returns' AS VARCHAR(60)) AS anon_1\n",
      "2019-04-02 09:40:35,741 INFO sqlalchemy.engine.base.Engine ()\n",
      "2019-04-02 09:40:35,743 INFO sqlalchemy.engine.base.Engine SELECT CAST('test unicode returns' AS VARCHAR(60)) AS anon_1\n",
      "2019-04-02 09:40:35,744 INFO sqlalchemy.engine.base.Engine ()\n",
      "2019-04-02 09:40:35,745 INFO sqlalchemy.engine.base.Engine PRAGMA table_info(\"activities\")\n",
      "2019-04-02 09:40:35,746 INFO sqlalchemy.engine.base.Engine ()\n",
      "2019-04-02 09:40:35,748 INFO sqlalchemy.engine.base.Engine PRAGMA table_info(\"entities\")\n",
      "2019-04-02 09:40:35,749 INFO sqlalchemy.engine.base.Engine ()\n",
      "2019-04-02 09:40:35,752 INFO sqlalchemy.engine.base.Engine PRAGMA table_info(\"used\")\n",
      "2019-04-02 09:40:35,754 INFO sqlalchemy.engine.base.Engine ()\n",
      "2019-04-02 09:40:35,757 INFO sqlalchemy.engine.base.Engine PRAGMA table_info(\"wasGeneratedBy\")\n",
      "2019-04-02 09:40:35,758 INFO sqlalchemy.engine.base.Engine ()\n",
      "2019-04-02 09:40:35,760 INFO sqlalchemy.engine.base.Engine PRAGMA table_info(\"valueEntities\")\n",
      "2019-04-02 09:40:35,761 INFO sqlalchemy.engine.base.Engine ()\n",
      "2019-04-02 09:40:35,762 INFO sqlalchemy.engine.base.Engine PRAGMA table_info(\"datasetEntities\")\n",
      "2019-04-02 09:40:35,763 INFO sqlalchemy.engine.base.Engine ()\n",
      "2019-04-02 09:40:35,764 INFO sqlalchemy.engine.base.Engine PRAGMA table_info(\"parameters\")\n",
      "2019-04-02 09:40:35,765 INFO sqlalchemy.engine.base.Engine ()\n",
      "2019-04-02 09:40:35,768 INFO sqlalchemy.engine.base.Engine PRAGMA table_info(\"agents\")\n",
      "2019-04-02 09:40:35,770 INFO sqlalchemy.engine.base.Engine ()\n",
      "2019-04-02 09:40:35,772 INFO sqlalchemy.engine.base.Engine PRAGMA table_info(\"wasAssociatedWith\")\n",
      "2019-04-02 09:40:35,773 INFO sqlalchemy.engine.base.Engine ()\n",
      "2019-04-02 09:40:35,774 INFO sqlalchemy.engine.base.Engine PRAGMA table_info(\"wasAttributedTo\")\n",
      "2019-04-02 09:40:35,775 INFO sqlalchemy.engine.base.Engine ()\n",
      "2019-04-02 09:40:35,778 INFO sqlalchemy.engine.base.Engine PRAGMA table_info(\"activityDescriptions\")\n",
      "2019-04-02 09:40:35,783 INFO sqlalchemy.engine.base.Engine ()\n",
      "2019-04-02 09:40:35,785 INFO sqlalchemy.engine.base.Engine PRAGMA table_info(\"entityDescriptions\")\n",
      "2019-04-02 09:40:35,786 INFO sqlalchemy.engine.base.Engine ()\n",
      "2019-04-02 09:40:35,788 INFO sqlalchemy.engine.base.Engine PRAGMA table_info(\"usageDescriptions\")\n",
      "2019-04-02 09:40:35,789 INFO sqlalchemy.engine.base.Engine ()\n",
      "2019-04-02 09:40:35,791 INFO sqlalchemy.engine.base.Engine PRAGMA table_info(\"generationDescriptions\")\n",
      "2019-04-02 09:40:35,792 INFO sqlalchemy.engine.base.Engine ()\n",
      "2019-04-02 09:40:35,793 INFO sqlalchemy.engine.base.Engine PRAGMA table_info(\"valueDescriptions\")\n",
      "2019-04-02 09:40:35,794 INFO sqlalchemy.engine.base.Engine ()\n",
      "2019-04-02 09:40:35,795 INFO sqlalchemy.engine.base.Engine PRAGMA table_info(\"datasetDescriptions\")\n",
      "2019-04-02 09:40:35,796 INFO sqlalchemy.engine.base.Engine ()\n",
      "2019-04-02 09:40:35,798 INFO sqlalchemy.engine.base.Engine PRAGMA table_info(\"parameterDescriptions\")\n",
      "2019-04-02 09:40:35,801 INFO sqlalchemy.engine.base.Engine ()\n",
      "2019-04-02 09:40:35,804 INFO sqlalchemy.engine.base.Engine \n",
      "CREATE TABLE agents (\n",
      "\tid VARCHAR NOT NULL, \n",
      "\tname VARCHAR, \n",
      "\ttype VARCHAR, \n",
      "\temail VARCHAR, \n",
      "\taffiliation VARCHAR, \n",
      "\tphone VARCHAR, \n",
      "\taddress VARCHAR, \n",
      "\tPRIMARY KEY (id)\n",
      ")\n",
      "\n",
      "\n",
      "2019-04-02 09:40:35,806 INFO sqlalchemy.engine.base.Engine ()\n",
      "2019-04-02 09:40:35,807 INFO sqlalchemy.engine.base.Engine COMMIT\n",
      "2019-04-02 09:40:35,808 INFO sqlalchemy.engine.base.Engine \n",
      "CREATE TABLE \"activityDescriptions\" (\n",
      "\tid VARCHAR NOT NULL, \n",
      "\tname VARCHAR, \n",
      "\tactivity_type VARCHAR, \n",
      "\tactivity_subtype VARCHAR, \n",
      "\tversion VARCHAR, \n",
      "\tdoculink VARCHAR, \n",
      "\tPRIMARY KEY (id)\n",
      ")\n",
      "\n",
      "\n",
      "2019-04-02 09:40:35,809 INFO sqlalchemy.engine.base.Engine ()\n",
      "2019-04-02 09:40:35,810 INFO sqlalchemy.engine.base.Engine COMMIT\n",
      "2019-04-02 09:40:35,817 INFO sqlalchemy.engine.base.Engine \n",
      "CREATE TABLE \"entityDescriptions\" (\n",
      "\tid VARCHAR NOT NULL, \n",
      "\tname VARCHAR, \n",
      "\ttype VARCHAR, \n",
      "\tdescription VARCHAR, \n",
      "\tdoculink VARCHAR, \n",
      "\t\"classType\" VARCHAR, \n",
      "\tPRIMARY KEY (id)\n",
      ")\n",
      "\n",
      "\n",
      "2019-04-02 09:40:35,819 INFO sqlalchemy.engine.base.Engine ()\n",
      "2019-04-02 09:40:35,820 INFO sqlalchemy.engine.base.Engine COMMIT\n",
      "2019-04-02 09:40:35,825 INFO sqlalchemy.engine.base.Engine \n",
      "CREATE TABLE activities (\n",
      "\tid VARCHAR NOT NULL, \n",
      "\tname VARCHAR, \n",
      "\t\"startTime\" VARCHAR, \n",
      "\t\"endTime\" VARCHAR, \n",
      "\tcomment VARCHAR, \n",
      "\t\"activityDescription_id\" VARCHAR, \n",
      "\tPRIMARY KEY (id), \n",
      "\tFOREIGN KEY(\"activityDescription_id\") REFERENCES \"activityDescriptions\" (id)\n",
      ")\n",
      "\n",
      "\n",
      "2019-04-02 09:40:35,829 INFO sqlalchemy.engine.base.Engine ()\n",
      "2019-04-02 09:40:35,830 INFO sqlalchemy.engine.base.Engine COMMIT\n",
      "2019-04-02 09:40:35,832 INFO sqlalchemy.engine.base.Engine \n",
      "CREATE TABLE entities (\n",
      "\tid VARCHAR NOT NULL, \n",
      "\tname VARCHAR, \n",
      "\tlocation VARCHAR, \n",
      "\t\"generatedAtTime\" VARCHAR, \n",
      "\t\"invalidatedAtTime\" VARCHAR, \n",
      "\tcomment VARCHAR, \n",
      "\t\"classType\" VARCHAR, \n",
      "\t\"entityDescription_id\" VARCHAR, \n",
      "\tPRIMARY KEY (id), \n",
      "\tFOREIGN KEY(\"entityDescription_id\") REFERENCES \"entityDescriptions\" (id)\n",
      ")\n",
      "\n",
      "\n",
      "2019-04-02 09:40:35,833 INFO sqlalchemy.engine.base.Engine ()\n",
      "2019-04-02 09:40:35,834 INFO sqlalchemy.engine.base.Engine COMMIT\n",
      "2019-04-02 09:40:35,836 INFO sqlalchemy.engine.base.Engine \n",
      "CREATE TABLE \"usageDescriptions\" (\n",
      "\tid VARCHAR NOT NULL, \n",
      "\trole VARCHAR, \n",
      "\tdescription VARCHAR, \n",
      "\ttype VARCHAR, \n",
      "\t\"activityDescription_id\" VARCHAR, \n",
      "\t\"entityDescription_id\" VARCHAR, \n",
      "\tPRIMARY KEY (id), \n",
      "\tFOREIGN KEY(\"activityDescription_id\") REFERENCES \"activityDescriptions\" (id), \n",
      "\tFOREIGN KEY(\"entityDescription_id\") REFERENCES \"entityDescriptions\" (id)\n",
      ")\n",
      "\n",
      "\n",
      "2019-04-02 09:40:35,837 INFO sqlalchemy.engine.base.Engine ()\n",
      "2019-04-02 09:40:35,838 INFO sqlalchemy.engine.base.Engine COMMIT\n",
      "2019-04-02 09:40:35,839 INFO sqlalchemy.engine.base.Engine \n",
      "CREATE TABLE \"generationDescriptions\" (\n",
      "\tid VARCHAR NOT NULL, \n",
      "\trole VARCHAR, \n",
      "\tdescription VARCHAR, \n",
      "\ttype VARCHAR, \n",
      "\t\"activityDescription_id\" VARCHAR, \n",
      "\t\"entityDescription_id\" VARCHAR, \n",
      "\tPRIMARY KEY (id), \n",
      "\tFOREIGN KEY(\"activityDescription_id\") REFERENCES \"activityDescriptions\" (id), \n",
      "\tFOREIGN KEY(\"entityDescription_id\") REFERENCES \"entityDescriptions\" (id)\n",
      ")\n",
      "\n",
      "\n",
      "2019-04-02 09:40:35,840 INFO sqlalchemy.engine.base.Engine ()\n",
      "2019-04-02 09:40:35,841 INFO sqlalchemy.engine.base.Engine COMMIT\n",
      "2019-04-02 09:40:35,843 INFO sqlalchemy.engine.base.Engine \n",
      "CREATE TABLE \"valueDescriptions\" (\n",
      "\tid VARCHAR NOT NULL, \n",
      "\t\"valueType\" VARCHAR, \n",
      "\tunit VARCHAR, \n",
      "\tucd VARCHAR, \n",
      "\tutype VARCHAR, \n",
      "\tPRIMARY KEY (id), \n",
      "\tFOREIGN KEY(id) REFERENCES \"entityDescriptions\" (id)\n",
      ")\n",
      "\n",
      "\n",
      "2019-04-02 09:40:35,844 INFO sqlalchemy.engine.base.Engine ()\n",
      "2019-04-02 09:40:35,850 INFO sqlalchemy.engine.base.Engine COMMIT\n",
      "2019-04-02 09:40:35,852 INFO sqlalchemy.engine.base.Engine \n",
      "CREATE TABLE \"datasetDescriptions\" (\n",
      "\tid VARCHAR NOT NULL, \n",
      "\t\"contentType\" VARCHAR, \n",
      "\tPRIMARY KEY (id), \n",
      "\tFOREIGN KEY(id) REFERENCES \"entityDescriptions\" (id)\n",
      ")\n",
      "\n",
      "\n",
      "2019-04-02 09:40:35,854 INFO sqlalchemy.engine.base.Engine ()\n",
      "2019-04-02 09:40:35,855 INFO sqlalchemy.engine.base.Engine COMMIT\n",
      "2019-04-02 09:40:35,858 INFO sqlalchemy.engine.base.Engine \n",
      "CREATE TABLE used (\n",
      "\tid INTEGER NOT NULL, \n",
      "\trole VARCHAR, \n",
      "\ttime VARCHAR, \n",
      "\tactivity_id VARCHAR, \n",
      "\tentity_id VARCHAR, \n",
      "\tPRIMARY KEY (id), \n",
      "\tFOREIGN KEY(activity_id) REFERENCES activities (id), \n",
      "\tFOREIGN KEY(entity_id) REFERENCES entities (id)\n",
      ")\n",
      "\n",
      "\n",
      "2019-04-02 09:40:35,860 INFO sqlalchemy.engine.base.Engine ()\n",
      "2019-04-02 09:40:35,861 INFO sqlalchemy.engine.base.Engine COMMIT\n",
      "2019-04-02 09:40:35,862 INFO sqlalchemy.engine.base.Engine \n",
      "CREATE TABLE \"wasGeneratedBy\" (\n",
      "\tid INTEGER NOT NULL, \n",
      "\trole VARCHAR, \n",
      "\tactivity_id VARCHAR, \n",
      "\tentity_id VARCHAR, \n",
      "\tPRIMARY KEY (id), \n",
      "\tFOREIGN KEY(activity_id) REFERENCES activities (id), \n",
      "\tFOREIGN KEY(entity_id) REFERENCES entities (id)\n",
      ")\n",
      "\n",
      "\n",
      "2019-04-02 09:40:35,863 INFO sqlalchemy.engine.base.Engine ()\n",
      "2019-04-02 09:40:35,865 INFO sqlalchemy.engine.base.Engine COMMIT\n",
      "2019-04-02 09:40:35,866 INFO sqlalchemy.engine.base.Engine \n",
      "CREATE TABLE \"valueEntities\" (\n",
      "\tid VARCHAR NOT NULL, \n",
      "\t\"valueXX\" VARCHAR, \n",
      "\tPRIMARY KEY (id), \n",
      "\tFOREIGN KEY(id) REFERENCES entities (id)\n",
      ")\n",
      "\n",
      "\n",
      "2019-04-02 09:40:35,867 INFO sqlalchemy.engine.base.Engine ()\n",
      "2019-04-02 09:40:35,868 INFO sqlalchemy.engine.base.Engine COMMIT\n",
      "2019-04-02 09:40:35,869 INFO sqlalchemy.engine.base.Engine \n",
      "CREATE TABLE \"datasetEntities\" (\n",
      "\tid VARCHAR NOT NULL, \n",
      "\tPRIMARY KEY (id), \n",
      "\tFOREIGN KEY(id) REFERENCES entities (id)\n",
      ")\n",
      "\n",
      "\n"
     ]
    },
    {
     "name": "stdout",
     "output_type": "stream",
     "text": [
      "2019-04-02 09:40:35,870 INFO sqlalchemy.engine.base.Engine ()\n",
      "2019-04-02 09:40:35,871 INFO sqlalchemy.engine.base.Engine COMMIT\n",
      "2019-04-02 09:40:35,872 INFO sqlalchemy.engine.base.Engine \n",
      "CREATE TABLE \"wasAssociatedWith\" (\n",
      "\tid INTEGER NOT NULL, \n",
      "\tactivity VARCHAR, \n",
      "\tagent VARCHAR, \n",
      "\trole VARCHAR, \n",
      "\tPRIMARY KEY (id), \n",
      "\tFOREIGN KEY(activity) REFERENCES activities (id), \n",
      "\tFOREIGN KEY(agent) REFERENCES agents (id)\n",
      ")\n",
      "\n",
      "\n",
      "2019-04-02 09:40:35,873 INFO sqlalchemy.engine.base.Engine ()\n",
      "2019-04-02 09:40:35,874 INFO sqlalchemy.engine.base.Engine COMMIT\n",
      "2019-04-02 09:40:35,875 INFO sqlalchemy.engine.base.Engine \n",
      "CREATE TABLE \"wasAttributedTo\" (\n",
      "\tid INTEGER NOT NULL, \n",
      "\tentity VARCHAR, \n",
      "\tagent VARCHAR, \n",
      "\trole VARCHAR, \n",
      "\tPRIMARY KEY (id), \n",
      "\tFOREIGN KEY(entity) REFERENCES entities (id), \n",
      "\tFOREIGN KEY(agent) REFERENCES agents (id)\n",
      ")\n",
      "\n",
      "\n",
      "2019-04-02 09:40:35,876 INFO sqlalchemy.engine.base.Engine ()\n",
      "2019-04-02 09:40:35,877 INFO sqlalchemy.engine.base.Engine COMMIT\n",
      "2019-04-02 09:40:35,878 INFO sqlalchemy.engine.base.Engine \n",
      "CREATE TABLE \"parameterDescriptions\" (\n",
      "\tid VARCHAR NOT NULL, \n",
      "\tmin VARCHAR, \n",
      "\tmax VARCHAR, \n",
      "\toptions VARCHAR, \n",
      "\t\"default\" VARCHAR, \n",
      "\tPRIMARY KEY (id), \n",
      "\tFOREIGN KEY(id) REFERENCES \"valueDescriptions\" (id)\n",
      ")\n",
      "\n",
      "\n",
      "2019-04-02 09:40:35,879 INFO sqlalchemy.engine.base.Engine ()\n",
      "2019-04-02 09:40:35,881 INFO sqlalchemy.engine.base.Engine COMMIT\n",
      "2019-04-02 09:40:35,882 INFO sqlalchemy.engine.base.Engine \n",
      "CREATE TABLE parameters (\n",
      "\tid VARCHAR NOT NULL, \n",
      "\t\"valueType\" VARCHAR, \n",
      "\tunit VARCHAR, \n",
      "\tucd VARCHAR, \n",
      "\tutype VARCHAR, \n",
      "\tPRIMARY KEY (id), \n",
      "\tFOREIGN KEY(id) REFERENCES \"valueEntities\" (id)\n",
      ")\n",
      "\n",
      "\n",
      "2019-04-02 09:40:35,883 INFO sqlalchemy.engine.base.Engine ()\n",
      "2019-04-02 09:40:35,884 INFO sqlalchemy.engine.base.Engine COMMIT\n"
     ]
    }
   ],
   "source": [
    "# sqlalchemy creates the database for me\n",
    "Base.metadata.create_all(engine)"
   ]
  },
  {
   "cell_type": "markdown",
   "metadata": {},
   "source": [
    "## muon_reconstruction definition"
   ]
  },
  {
   "cell_type": "code",
   "execution_count": 10,
   "metadata": {
    "collapsed": true
   },
   "outputs": [],
   "source": [
    "\"\"\"\n",
    "Example to load raw data (hessio format), calibrate and reconstruct muon\n",
    "ring parameters, and write the muon ring and intensity parameters to an output\n",
    "table.\n",
    "\n",
    "The resulting output can be read e.g. using `pandas.read_hdf(filename,\n",
    "'muons/LSTCam')`\n",
    "\"\"\"\n",
    "\n",
    "import warnings\n",
    "from collections import defaultdict\n",
    "\n",
    "from tqdm import tqdm\n",
    "\n",
    "from ctapipe.calib import CameraCalibrator\n",
    "from ctapipe.core import Provenance\n",
    "from ctapipe.core import Tool, ToolConfigurationError\n",
    "from ctapipe.core import traits as t\n",
    "from ctapipe.image.muon.muon_diagnostic_plots import plot_muon_event\n",
    "from ctapipe.image.muon.muon_reco_functions import analyze_muon_event\n",
    "from ctapipe.io import EventSourceFactory\n",
    "from ctapipe.io import HDF5TableWriter\n",
    "\n",
    "warnings.filterwarnings(\"ignore\")  # Supresses iminuit warnings\n",
    "\n",
    "\n",
    "def _exclude_some_columns(subarray, writer):\n",
    "    \"\"\" a hack to exclude some columns of all output tables here we exclude\n",
    "    the prediction and mask quantities, since they are arrays and thus not\n",
    "    readable by pandas.  Also, prediction currently is a variable-length\n",
    "    quantity (need to change it to be fixed-length), so it cannot be written\n",
    "    to a fixed-length table.\n",
    "    \"\"\"\n",
    "    all_camids = {str(x.camera) for x in subarray.tel.values()}\n",
    "    for cam in all_camids:\n",
    "        writer.exclude(cam, 'prediction')\n",
    "        writer.exclude(cam, 'mask')\n",
    "\n",
    "class MuonDisplayerTool(Tool):\n",
    "    name = 'ctapipe-display-muons'\n",
    "    description = t.Unicode(__doc__)\n",
    "\n",
    "    events = t.Unicode(\"\",\n",
    "                       help=\"input event data file\").tag(config=True)\n",
    "\n",
    "    outfile = t.Unicode(\"muons.hdf5\", help='HDF5 output file name').tag(\n",
    "        config=True)\n",
    "\n",
    "    display = t.Bool(\n",
    "        help='display the camera events', default=False\n",
    "    ).tag(config=True)\n",
    "\n",
    "    classes = t.List([\n",
    "        CameraCalibrator, EventSourceFactory\n",
    "    ])\n",
    "\n",
    "    aliases = t.Dict({\n",
    "        'input': 'MuonDisplayerTool.events',\n",
    "        'outfile': 'MuonDisplayerTool.outfile',\n",
    "        'display': 'MuonDisplayerTool.display',\n",
    "        'max_events': 'EventSourceFactory.max_events',\n",
    "        'allowed_tels': 'EventSourceFactory.allowed_tels',\n",
    "    })\n",
    "\n",
    "    def setup(self):\n",
    "        if self.events == '':\n",
    "            raise ToolConfigurationError(\"please specify --input <events file>\")\n",
    "        self.log.debug(\"input: %s\", self.events)\n",
    "        self.source = EventSourceFactory.produce(input_url=self.events)\n",
    "        self.calib = CameraCalibrator(\n",
    "            config=self.config, tool=self, eventsource=self.source\n",
    "        )\n",
    "        self.writer = HDF5TableWriter(self.outfile, \"muons\")\n",
    "\n",
    "    def start(self):\n",
    "\n",
    "        numev = 0\n",
    "        self.num_muons_found = defaultdict(int)\n",
    "\n",
    "        for event in tqdm(self.source, desc='detecting muons'):\n",
    "\n",
    "            self.calib.calibrate(event)\n",
    "            muon_evt = analyze_muon_event(event)\n",
    "\n",
    "            if numev == 0:\n",
    "                _exclude_some_columns(event.inst.subarray, self.writer)\n",
    "\n",
    "            numev += 1\n",
    "\n",
    "            if not muon_evt['MuonIntensityParams']:\n",
    "                # No telescopes  contained a good muon\n",
    "                continue\n",
    "            else:\n",
    "                if self.display:\n",
    "                    plot_muon_event(event, muon_evt)\n",
    "\n",
    "                for tel_id in muon_evt['TelIds']:\n",
    "                    idx = muon_evt['TelIds'].index(tel_id)\n",
    "                    intens_params = muon_evt['MuonIntensityParams'][idx]\n",
    "\n",
    "                    if intens_params is not None:\n",
    "                        ring_params = muon_evt['MuonRingParams'][idx]\n",
    "                        cam_id = str(event.inst.subarray.tel[tel_id].camera)\n",
    "                        self.num_muons_found[cam_id] += 1\n",
    "                        self.log.debug(\"INTENSITY: %s\", intens_params)\n",
    "                        self.log.debug(\"RING: %s\", ring_params)\n",
    "                        self.writer.write(table_name=cam_id,\n",
    "                                          containers=[intens_params,\n",
    "                                                      ring_params])\n",
    "\n",
    "                self.log.info(\n",
    "                    \"Event Number: %d, found %s muons\",\n",
    "                    numev, dict(self.num_muons_found)\n",
    "                )\n",
    "\n",
    "    def finish(self):\n",
    "        Provenance().add_output_file(self.outfile,\n",
    "                                     role='dl1.tel.evt.muon')\n",
    "        self.writer.close()\n",
    "\n",
    "\n",
    "\n"
   ]
  },
  {
   "cell_type": "markdown",
   "metadata": {},
   "source": [
    "## Descriptions added in the Provenance database"
   ]
  },
  {
   "cell_type": "code",
   "execution_count": 11,
   "metadata": {},
   "outputs": [
    {
     "name": "stdout",
     "output_type": "stream",
     "text": [
      "2019-04-02 09:40:41,964 INFO sqlalchemy.engine.base.Engine BEGIN (implicit)\n"
     ]
    },
    {
     "name": "stderr",
     "output_type": "stream",
     "text": [
      "INFO:sqlalchemy.engine.base.Engine:BEGIN (implicit)\n"
     ]
    },
    {
     "name": "stdout",
     "output_type": "stream",
     "text": [
      "2019-04-02 09:40:41,968 INFO sqlalchemy.engine.base.Engine INSERT INTO \"activityDescriptions\" (id, name, activity_type, activity_subtype, version, doculink) VALUES (?, ?, ?, ?, ?, ?)\n"
     ]
    },
    {
     "name": "stderr",
     "output_type": "stream",
     "text": [
      "INFO:sqlalchemy.engine.base.Engine:INSERT INTO \"activityDescriptions\" (id, name, activity_type, activity_subtype, version, doculink) VALUES (?, ?, ?, ?, ?, ?)\n"
     ]
    },
    {
     "name": "stdout",
     "output_type": "stream",
     "text": [
      "2019-04-02 09:40:41,970 INFO sqlalchemy.engine.base.Engine ('ctapipe_display_muons_0.6.1', 'ctapipe_display_muons', '', '', '0.6.1', '')\n"
     ]
    },
    {
     "name": "stderr",
     "output_type": "stream",
     "text": [
      "INFO:sqlalchemy.engine.base.Engine:('ctapipe_display_muons_0.6.1', 'ctapipe_display_muons', '', '', '0.6.1', '')\n"
     ]
    },
    {
     "name": "stdout",
     "output_type": "stream",
     "text": [
      "2019-04-02 09:40:41,973 INFO sqlalchemy.engine.base.Engine INSERT INTO \"entityDescriptions\" (id, name, type, description, doculink, \"classType\") VALUES (?, ?, ?, ?, ?, ?)\n"
     ]
    },
    {
     "name": "stderr",
     "output_type": "stream",
     "text": [
      "INFO:sqlalchemy.engine.base.Engine:INSERT INTO \"entityDescriptions\" (id, name, type, description, doculink, \"classType\") VALUES (?, ?, ?, ?, ?, ?)\n"
     ]
    },
    {
     "name": "stdout",
     "output_type": "stream",
     "text": [
      "2019-04-02 09:40:41,975 INFO sqlalchemy.engine.base.Engine (('proton_events', 'protons', None, 'proton file', None, 'datasetDescription'), ('muons_hdf5', 'muons', None, 'muon file', None, 'datasetDescription'), ('status', None, None, None, None, 'valueDescription'))\n"
     ]
    },
    {
     "name": "stderr",
     "output_type": "stream",
     "text": [
      "INFO:sqlalchemy.engine.base.Engine:(('proton_events', 'protons', None, 'proton file', None, 'datasetDescription'), ('muons_hdf5', 'muons', None, 'muon file', None, 'datasetDescription'), ('status', None, None, None, None, 'valueDescription'))\n"
     ]
    },
    {
     "name": "stdout",
     "output_type": "stream",
     "text": [
      "2019-04-02 09:40:41,978 INFO sqlalchemy.engine.base.Engine INSERT INTO \"valueDescriptions\" (id, \"valueType\", unit, ucd, utype) VALUES (?, ?, ?, ?, ?)\n"
     ]
    },
    {
     "name": "stderr",
     "output_type": "stream",
     "text": [
      "INFO:sqlalchemy.engine.base.Engine:INSERT INTO \"valueDescriptions\" (id, \"valueType\", unit, ucd, utype) VALUES (?, ?, ?, ?, ?)\n"
     ]
    },
    {
     "name": "stdout",
     "output_type": "stream",
     "text": [
      "2019-04-02 09:40:41,980 INFO sqlalchemy.engine.base.Engine ('status', None, None, None, None)\n"
     ]
    },
    {
     "name": "stderr",
     "output_type": "stream",
     "text": [
      "INFO:sqlalchemy.engine.base.Engine:('status', None, None, None, None)\n"
     ]
    },
    {
     "name": "stdout",
     "output_type": "stream",
     "text": [
      "2019-04-02 09:40:41,982 INFO sqlalchemy.engine.base.Engine INSERT INTO \"datasetDescriptions\" (id, \"contentType\") VALUES (?, ?)\n"
     ]
    },
    {
     "name": "stderr",
     "output_type": "stream",
     "text": [
      "INFO:sqlalchemy.engine.base.Engine:INSERT INTO \"datasetDescriptions\" (id, \"contentType\") VALUES (?, ?)\n"
     ]
    },
    {
     "name": "stdout",
     "output_type": "stream",
     "text": [
      "2019-04-02 09:40:41,985 INFO sqlalchemy.engine.base.Engine (('proton_events', None), ('muons_hdf5', None))\n"
     ]
    },
    {
     "name": "stderr",
     "output_type": "stream",
     "text": [
      "INFO:sqlalchemy.engine.base.Engine:(('proton_events', None), ('muons_hdf5', None))\n"
     ]
    },
    {
     "name": "stdout",
     "output_type": "stream",
     "text": [
      "2019-04-02 09:40:41,991 INFO sqlalchemy.engine.base.Engine INSERT INTO \"usageDescriptions\" (id, role, description, type, \"activityDescription_id\", \"entityDescription_id\") VALUES (?, ?, ?, ?, ?, ?)\n"
     ]
    },
    {
     "name": "stderr",
     "output_type": "stream",
     "text": [
      "INFO:sqlalchemy.engine.base.Engine:INSERT INTO \"usageDescriptions\" (id, role, description, type, \"activityDescription_id\", \"entityDescription_id\") VALUES (?, ?, ?, ?, ?, ?)\n"
     ]
    },
    {
     "name": "stdout",
     "output_type": "stream",
     "text": [
      "2019-04-02 09:40:41,994 INFO sqlalchemy.engine.base.Engine ('ctapipe_display_muons_0.6.1_proton_events', 'dl0.sub.evt', None, None, 'ctapipe_display_muons_0.6.1', 'proton_events')\n"
     ]
    },
    {
     "name": "stderr",
     "output_type": "stream",
     "text": [
      "INFO:sqlalchemy.engine.base.Engine:('ctapipe_display_muons_0.6.1_proton_events', 'dl0.sub.evt', None, None, 'ctapipe_display_muons_0.6.1', 'proton_events')\n"
     ]
    },
    {
     "name": "stdout",
     "output_type": "stream",
     "text": [
      "2019-04-02 09:40:42,004 INFO sqlalchemy.engine.base.Engine INSERT INTO \"generationDescriptions\" (id, role, description, type, \"activityDescription_id\", \"entityDescription_id\") VALUES (?, ?, ?, ?, ?, ?)\n"
     ]
    },
    {
     "name": "stderr",
     "output_type": "stream",
     "text": [
      "INFO:sqlalchemy.engine.base.Engine:INSERT INTO \"generationDescriptions\" (id, role, description, type, \"activityDescription_id\", \"entityDescription_id\") VALUES (?, ?, ?, ?, ?, ?)\n"
     ]
    },
    {
     "name": "stdout",
     "output_type": "stream",
     "text": [
      "2019-04-02 09:40:42,006 INFO sqlalchemy.engine.base.Engine (('ctapipe_display_muons_0.6.1_muons_hdf5', 'dl0.sub.evt', None, None, 'ctapipe_display_muons_0.6.1', 'muons_hdf5'), ('ctapipe_display_muons_0.6.1_status', 'quality', None, None, 'ctapipe_display_muons_0.6.1', 'status'))\n"
     ]
    },
    {
     "name": "stderr",
     "output_type": "stream",
     "text": [
      "INFO:sqlalchemy.engine.base.Engine:(('ctapipe_display_muons_0.6.1_muons_hdf5', 'dl0.sub.evt', None, None, 'ctapipe_display_muons_0.6.1', 'muons_hdf5'), ('ctapipe_display_muons_0.6.1_status', 'quality', None, None, 'ctapipe_display_muons_0.6.1', 'status'))\n"
     ]
    },
    {
     "name": "stdout",
     "output_type": "stream",
     "text": [
      "2019-04-02 09:40:42,011 INFO sqlalchemy.engine.base.Engine COMMIT\n"
     ]
    },
    {
     "name": "stderr",
     "output_type": "stream",
     "text": [
      "INFO:sqlalchemy.engine.base.Engine:COMMIT\n"
     ]
    }
   ],
   "source": [
    "# Define the session to talk to the database\n",
    "from sqlalchemy.orm import sessionmaker\n",
    "Session = sessionmaker(bind=engine)\n",
    "session = Session()\n",
    "\n",
    "# Create an instance of ActivityDescription \n",
    "actDesc1 = ActivityDescription(id='ctapipe_display_muons_0.6.1',name='ctapipe_display_muons',\\\n",
    "                               activity_type='',activity_subtype='',version='0.6.1', doculink='')\n",
    "\n",
    "# Create the description of input entities\n",
    "dataDesc1 = DatasetDescription(id='proton_events', name='protons', description='proton file', classType='datasetDescription')\n",
    "usedDesc1 = UsageDescription(id='ctapipe_display_muons_0.6.1_proton_events',activityDescription=actDesc1, entityDescription=dataDesc1, role=\"dl0.sub.evt\")\n",
    "# Create the description of output entities\n",
    "dataDesc2  = DatasetDescription(id='muons_hdf5', name='muons', description='muon file', classType='datasetDescription')\n",
    "wGBDesc1   = GenerationDescription(id='ctapipe_display_muons_0.6.1_muons_hdf5',activityDescription=actDesc1, entityDescription=dataDesc2, role=\"dl0.sub.evt\")\n",
    "valueDesc1 = ValueDescription(id='status', classType='valueDescription')\n",
    "wGBDesc2   = GenerationDescription(id='ctapipe_display_muons_0.6.1_status', activityDescription=actDesc1, entityDescription=valueDesc1, role=\"quality\")\n",
    "\n",
    "# Put the instance in the database\n",
    "session.add(actDesc1)\n",
    "session.add(dataDesc1)\n",
    "session.add(usedDesc1)\n",
    "session.add(dataDesc2)\n",
    "session.add(wGBDesc1)\n",
    "session.add(valueDesc1)\n",
    "session.add(wGBDesc2)\n",
    "session.commit()"
   ]
  },
  {
   "cell_type": "markdown",
   "metadata": {},
   "source": [
    "## muon_reconstruction job"
   ]
  },
  {
   "cell_type": "code",
   "execution_count": 12,
   "metadata": {},
   "outputs": [
    {
     "name": "stderr",
     "output_type": "stream",
     "text": [
      "\u001b[1;32mINFO\u001b[0m [MuonDisplayerTool] (tool/initialize): ctapipe version 0.6.1\n",
      "\u001b[1;32mINFO\u001b[0m [MuonDisplayerTool] (tool/run): Starting: ctapipe-display-muons\n",
      "\u001b[1;32mINFO\u001b[0m [MuonDisplayerTool.ChargeExtractorFactory] (factory/_product): Obtaining NeighbourPeakIntegrator from ChargeExtractorFactory\n",
      "\u001b[1;32mINFO\u001b[0m [MuonDisplayerTool.WaveformCleanerFactory] (factory/_product): Obtaining NullWaveformCleaner from WaveformCleanerFactory\n",
      "\u001b[1;32mINFO\u001b[0m [MuonDisplayerTool.CameraR1CalibratorFactory] (factory/_product): Obtaining HESSIOR1Calibrator from CameraR1CalibratorFactory\n",
      "\u001b[1;32mINFO\u001b[0m [MuonDisplayerTool.CameraDL0Reducer] (dl0/__init__): Applying no data volume reduction in the conversion from R1 to DL0\n",
      "detecting muons: 8it [00:00,  8.38it/s]\n",
      "\u001b[1;32mINFO\u001b[0m [MuonDisplayerTool] (tool/run): Finished: ctapipe-display-muons\n",
      "\u001b[1;32mINFO\u001b[0m [MuonDisplayerTool] (tool/run): Output: /Users/bourgeat/Documents/CTA/Provenance/ctapipe/tests/muons.hdf5\n",
      "\u001b[1;32mINFO\u001b[0m [MuonDisplayerTool] (tool/initialize): ctapipe version 0.6.1\n",
      "\u001b[1;32mINFO\u001b[0m [MuonDisplayerTool] (tool/run): Starting: ctapipe-display-muons\n",
      "WARNING:ctapipe.io.hessioeventsource.HESSIOEventSource:Only one pyhessio event_source allowed at a time. Previous hessio file will be closed.\n",
      "\u001b[1;32mINFO\u001b[0m [MuonDisplayerTool.ChargeExtractorFactory] (factory/_product): Obtaining NeighbourPeakIntegrator from ChargeExtractorFactory\n",
      "\u001b[1;32mINFO\u001b[0m [MuonDisplayerTool.WaveformCleanerFactory] (factory/_product): Obtaining NullWaveformCleaner from WaveformCleanerFactory\n",
      "\u001b[1;32mINFO\u001b[0m [MuonDisplayerTool.CameraR1CalibratorFactory] (factory/_product): Obtaining HESSIOR1Calibrator from CameraR1CalibratorFactory\n",
      "\u001b[1;32mINFO\u001b[0m [MuonDisplayerTool.CameraDL0Reducer] (dl0/__init__): Applying no data volume reduction in the conversion from R1 to DL0\n",
      "detecting muons: 8it [00:00,  8.95it/s]\n",
      "\u001b[1;32mINFO\u001b[0m [MuonDisplayerTool] (tool/run): Finished: ctapipe-display-muons\n",
      "\u001b[1;32mINFO\u001b[0m [MuonDisplayerTool] (tool/run): Output: /Users/bourgeat/Documents/CTA/Provenance/ctapipe/tests/muons.hdf5\n",
      "\u001b[1;32mINFO\u001b[0m [MuonDisplayerTool] (tool/run): Output: /Users/bourgeat/Documents/CTA/Provenance/ctapipe/tests/muons.hdf5\n"
     ]
    }
   ],
   "source": [
    "from ctapipe.core import Provenance\n",
    "from pprint import pprint\n",
    "p = Provenance()  # note this is a singleton, so only ever one global provenence object\n",
    "p.clear()\n",
    "\n",
    "p.start_activity()\n",
    "    \n",
    "myTool = MuonDisplayerTool()\n",
    "myTool.run(['--input=/Users/bourgeat/Documents/CTA/Provenance/tests/proton_20deg_180deg_run22___cta-prod3-demo-2147m-LaPalma-baseline.simtel.gz'])\n",
    "\n",
    "myTool = MuonDisplayerTool()\n",
    "myTool.run(['--input=/Users/bourgeat/Documents/CTA/Provenance/tests/proton_20deg_180deg_run22___cta-prod3-demo-2147m-LaPalma-baseline.simtel.gz'])\n",
    "\n",
    "p.finish_activity()"
   ]
  },
  {
   "cell_type": "code",
   "execution_count": 13,
   "metadata": {},
   "outputs": [
    {
     "data": {
      "text/plain": [
       "['ctapipe-display-muons',\n",
       " 'ctapipe-display-muons',\n",
       " '/Users/bourgeat/anaconda3/bin/python']"
      ]
     },
     "execution_count": 13,
     "metadata": {},
     "output_type": "execute_result"
    }
   ],
   "source": [
    "p.finished_activity_names"
   ]
  },
  {
   "cell_type": "code",
   "execution_count": 14,
   "metadata": {},
   "outputs": [
    {
     "data": {
      "text/plain": [
       "[{'activity_name': 'ctapipe-display-muons',\n",
       "  'activity_uuid': 'ed7e27d4-a0a7-43a2-97a1-511348dd37bd',\n",
       "  'config': {'MuonDisplayerTool': {'events': '/Users/bourgeat/Documents/CTA/Provenance/tests/proton_20deg_180deg_run22___cta-prod3-demo-2147m-LaPalma-baseline.simtel.gz'}},\n",
       "  'duration_min': 0.016816666666636948,\n",
       "  'input': [{'role': 'dl0.sub.evt',\n",
       "    'url': '/Users/bourgeat/Documents/CTA/Provenance/tests/proton_20deg_180deg_run22___cta-prod3-demo-2147m-LaPalma-baseline.simtel.gz'}],\n",
       "  'output': [{'role': 'dl1.tel.evt.muon',\n",
       "    'url': '/Users/bourgeat/Documents/CTA/Provenance/ctapipe/tests/muons.hdf5'}],\n",
       "  'start': {'time_utc': '2019-04-02T07:40:47.663'},\n",
       "  'status': 'completed',\n",
       "  'stop': {'time_utc': '2019-04-02T07:40:48.672'},\n",
       "  'system': {'arguments': ['/Users/bourgeat/anaconda3/lib/python3.6/site-packages/ipykernel_launcher.py',\n",
       "    '-f',\n",
       "    '/Users/bourgeat/Library/Jupyter/runtime/kernel-19cd8f1b-c4ea-4fbc-87d8-a0e25980ce43.json'],\n",
       "   'ctapipe_resources_version': '0.2.15',\n",
       "   'ctapipe_svc_path': None,\n",
       "   'ctapipe_version': '0.6.1',\n",
       "   'environment': {'CONDA_DEFAULT_ENV': None,\n",
       "    'CONDA_EXE': None,\n",
       "    'CONDA_PREFIX': None,\n",
       "    'CONDA_PROMPT_MODIFIER': None,\n",
       "    'CONDA_PYTHON_EXE': None,\n",
       "    'CONDA_SHLVL': None,\n",
       "    'DYLD_LIBRARY_PATH': None,\n",
       "    'HOME': '/Users/bourgeat',\n",
       "    'LD_LIBRARY_PATH': '/lib:/usr/lib:/Users/bourgeat/DAQ/lib:/usr/local/root/4.04.02/lib:/local/home/soft/2003/lib',\n",
       "    'PATH': '/Users/bourgeat/anaconda3/bin:/opt/local/bin:/opt/local/sbin:/Library/Frameworks/Python.framework/Versions/3.7/bin:/Users/bourgeat/anaconda3/bin:/Users/bourgeat/anaconda/bin:/Library/Frameworks/Python.framework/Versions/3.4/bin:/usr/bin:/bin:/usr/sbin:/sbin:/usr/local/bin:/Library/TeX/texbin:/opt/X11/bin:/Users/bourgeat/bin:/Users/bourgeat/DAQ/bin:/usr/local/root/4.04.02/bin:/local/home/soft/2003/bin',\n",
       "    'SHELL': '/bin/bash',\n",
       "    'USER': 'bourgeat'},\n",
       "   'executable': '/Users/bourgeat/anaconda3/bin/python',\n",
       "   'platform': {'architecture_bits': '64bit',\n",
       "    'architecture_linkage': '',\n",
       "    'boot_time': '2019-03-31T20:37:20.000',\n",
       "    'libcver': ('', ''),\n",
       "    'machine': 'x86_64',\n",
       "    'node': 'macbook-sanguillon.local',\n",
       "    'num_cpus': 8,\n",
       "    'processor': 'i386',\n",
       "    'release': '17.7.0',\n",
       "    'system': 'Darwin',\n",
       "    'version': 'Darwin Kernel Version 17.7.0: Wed Oct 10 23:06:14 PDT 2018; root:xnu-4570.71.13~1/RELEASE_X86_64'},\n",
       "   'python': {'compiler': 'GCC 4.2.1 Compatible Clang 4.0.1 (tags/RELEASE_401/final)',\n",
       "    'implementation': 'CPython',\n",
       "    'version': ('3', '6', '8'),\n",
       "    'version_string': '3.6.8 |Anaconda custom (64-bit)| (default, Dec 29 2018, 19:04:46) \\n[GCC 4.2.1 Compatible Clang 4.0.1 (tags/RELEASE_401/final)]'},\n",
       "   'start_time_utc': '2019-04-02T07:40:47.697'}},\n",
       " {'activity_name': 'ctapipe-display-muons',\n",
       "  'activity_uuid': 'c3b6e97b-b75e-4c4b-85eb-5d66609c0b0c',\n",
       "  'config': {'MuonDisplayerTool': {'events': '/Users/bourgeat/Documents/CTA/Provenance/tests/proton_20deg_180deg_run22___cta-prod3-demo-2147m-LaPalma-baseline.simtel.gz'}},\n",
       "  'duration_min': 0.014466666666681505,\n",
       "  'input': [{'role': 'dl0.sub.evt',\n",
       "    'url': '/Users/bourgeat/Documents/CTA/Provenance/tests/proton_20deg_180deg_run22___cta-prod3-demo-2147m-LaPalma-baseline.simtel.gz'}],\n",
       "  'output': [{'role': 'dl1.tel.evt.muon',\n",
       "    'url': '/Users/bourgeat/Documents/CTA/Provenance/ctapipe/tests/muons.hdf5'}],\n",
       "  'start': {'time_utc': '2019-04-02T07:40:48.680'},\n",
       "  'status': 'completed',\n",
       "  'stop': {'time_utc': '2019-04-02T07:40:49.548'},\n",
       "  'system': {'arguments': ['/Users/bourgeat/anaconda3/lib/python3.6/site-packages/ipykernel_launcher.py',\n",
       "    '-f',\n",
       "    '/Users/bourgeat/Library/Jupyter/runtime/kernel-19cd8f1b-c4ea-4fbc-87d8-a0e25980ce43.json'],\n",
       "   'ctapipe_resources_version': '0.2.15',\n",
       "   'ctapipe_svc_path': None,\n",
       "   'ctapipe_version': '0.6.1',\n",
       "   'environment': {'CONDA_DEFAULT_ENV': None,\n",
       "    'CONDA_EXE': None,\n",
       "    'CONDA_PREFIX': None,\n",
       "    'CONDA_PROMPT_MODIFIER': None,\n",
       "    'CONDA_PYTHON_EXE': None,\n",
       "    'CONDA_SHLVL': None,\n",
       "    'DYLD_LIBRARY_PATH': None,\n",
       "    'HOME': '/Users/bourgeat',\n",
       "    'LD_LIBRARY_PATH': '/lib:/usr/lib:/Users/bourgeat/DAQ/lib:/usr/local/root/4.04.02/lib:/local/home/soft/2003/lib',\n",
       "    'PATH': '/Users/bourgeat/anaconda3/bin:/opt/local/bin:/opt/local/sbin:/Library/Frameworks/Python.framework/Versions/3.7/bin:/Users/bourgeat/anaconda3/bin:/Users/bourgeat/anaconda/bin:/Library/Frameworks/Python.framework/Versions/3.4/bin:/usr/bin:/bin:/usr/sbin:/sbin:/usr/local/bin:/Library/TeX/texbin:/opt/X11/bin:/Users/bourgeat/bin:/Users/bourgeat/DAQ/bin:/usr/local/root/4.04.02/bin:/local/home/soft/2003/bin',\n",
       "    'SHELL': '/bin/bash',\n",
       "    'USER': 'bourgeat'},\n",
       "   'executable': '/Users/bourgeat/anaconda3/bin/python',\n",
       "   'platform': {'architecture_bits': '64bit',\n",
       "    'architecture_linkage': '',\n",
       "    'boot_time': '2019-03-31T20:37:20.000',\n",
       "    'libcver': ('', ''),\n",
       "    'machine': 'x86_64',\n",
       "    'node': 'macbook-sanguillon.local',\n",
       "    'num_cpus': 8,\n",
       "    'processor': 'i386',\n",
       "    'release': '17.7.0',\n",
       "    'system': 'Darwin',\n",
       "    'version': 'Darwin Kernel Version 17.7.0: Wed Oct 10 23:06:14 PDT 2018; root:xnu-4570.71.13~1/RELEASE_X86_64'},\n",
       "   'python': {'compiler': 'GCC 4.2.1 Compatible Clang 4.0.1 (tags/RELEASE_401/final)',\n",
       "    'implementation': 'CPython',\n",
       "    'version': ('3', '6', '8'),\n",
       "    'version_string': '3.6.8 |Anaconda custom (64-bit)| (default, Dec 29 2018, 19:04:46) \\n[GCC 4.2.1 Compatible Clang 4.0.1 (tags/RELEASE_401/final)]'},\n",
       "   'start_time_utc': '2019-04-02T07:40:48.697'}}]"
      ]
     },
     "execution_count": 14,
     "metadata": {},
     "output_type": "execute_result"
    }
   ],
   "source": [
    "p.provenance[:-1]"
   ]
  },
  {
   "cell_type": "markdown",
   "metadata": {},
   "source": [
    "## Provenance database update"
   ]
  },
  {
   "cell_type": "code",
   "execution_count": 15,
   "metadata": {},
   "outputs": [
    {
     "name": "stdout",
     "output_type": "stream",
     "text": [
      "cle existante\n",
      "ERROR\n",
      "cle existante\n",
      "ERROR\n",
      "2019-04-02 09:40:58,819 INFO sqlalchemy.engine.base.Engine BEGIN (implicit)\n"
     ]
    },
    {
     "name": "stderr",
     "output_type": "stream",
     "text": [
      "INFO:sqlalchemy.engine.base.Engine:BEGIN (implicit)\n"
     ]
    },
    {
     "name": "stdout",
     "output_type": "stream",
     "text": [
      "2019-04-02 09:40:58,822 INFO sqlalchemy.engine.base.Engine INSERT INTO \"wasGeneratedBy\" (role, activity_id, entity_id) VALUES (?, ?, ?)\n"
     ]
    },
    {
     "name": "stderr",
     "output_type": "stream",
     "text": [
      "INFO:sqlalchemy.engine.base.Engine:INSERT INTO \"wasGeneratedBy\" (role, activity_id, entity_id) VALUES (?, ?, ?)\n"
     ]
    },
    {
     "name": "stdout",
     "output_type": "stream",
     "text": [
      "2019-04-02 09:40:58,824 INFO sqlalchemy.engine.base.Engine ('dl1.tel.evt.muon', 'ed7e27d4-a0a7-43a2-97a1-511348dd37bd', '4b19eb8d-21a9-5351-b4cc-09d0790f594e')\n"
     ]
    },
    {
     "name": "stderr",
     "output_type": "stream",
     "text": [
      "INFO:sqlalchemy.engine.base.Engine:('dl1.tel.evt.muon', 'ed7e27d4-a0a7-43a2-97a1-511348dd37bd', '4b19eb8d-21a9-5351-b4cc-09d0790f594e')\n"
     ]
    },
    {
     "name": "stdout",
     "output_type": "stream",
     "text": [
      "2019-04-02 09:40:58,827 INFO sqlalchemy.engine.base.Engine INSERT INTO \"wasGeneratedBy\" (role, activity_id, entity_id) VALUES (?, ?, ?)\n"
     ]
    },
    {
     "name": "stderr",
     "output_type": "stream",
     "text": [
      "INFO:sqlalchemy.engine.base.Engine:INSERT INTO \"wasGeneratedBy\" (role, activity_id, entity_id) VALUES (?, ?, ?)\n"
     ]
    },
    {
     "name": "stdout",
     "output_type": "stream",
     "text": [
      "2019-04-02 09:40:58,829 INFO sqlalchemy.engine.base.Engine ('dl1.tel.evt.muon', 'c3b6e97b-b75e-4c4b-85eb-5d66609c0b0c', '4b19eb8d-21a9-5351-b4cc-09d0790f594e')\n"
     ]
    },
    {
     "name": "stderr",
     "output_type": "stream",
     "text": [
      "INFO:sqlalchemy.engine.base.Engine:('dl1.tel.evt.muon', 'c3b6e97b-b75e-4c4b-85eb-5d66609c0b0c', '4b19eb8d-21a9-5351-b4cc-09d0790f594e')\n"
     ]
    },
    {
     "name": "stdout",
     "output_type": "stream",
     "text": [
      "2019-04-02 09:40:58,834 INFO sqlalchemy.engine.base.Engine INSERT INTO used (role, time, activity_id, entity_id) VALUES (?, ?, ?, ?)\n"
     ]
    },
    {
     "name": "stderr",
     "output_type": "stream",
     "text": [
      "INFO:sqlalchemy.engine.base.Engine:INSERT INTO used (role, time, activity_id, entity_id) VALUES (?, ?, ?, ?)\n"
     ]
    },
    {
     "name": "stdout",
     "output_type": "stream",
     "text": [
      "2019-04-02 09:40:58,839 INFO sqlalchemy.engine.base.Engine ('dl0.sub.evt', None, 'ed7e27d4-a0a7-43a2-97a1-511348dd37bd', '488b5b7e-56e8-58b9-81be-372f3bc528a6')\n"
     ]
    },
    {
     "name": "stderr",
     "output_type": "stream",
     "text": [
      "INFO:sqlalchemy.engine.base.Engine:('dl0.sub.evt', None, 'ed7e27d4-a0a7-43a2-97a1-511348dd37bd', '488b5b7e-56e8-58b9-81be-372f3bc528a6')\n"
     ]
    },
    {
     "name": "stdout",
     "output_type": "stream",
     "text": [
      "2019-04-02 09:40:58,843 INFO sqlalchemy.engine.base.Engine INSERT INTO used (role, time, activity_id, entity_id) VALUES (?, ?, ?, ?)\n"
     ]
    },
    {
     "name": "stderr",
     "output_type": "stream",
     "text": [
      "INFO:sqlalchemy.engine.base.Engine:INSERT INTO used (role, time, activity_id, entity_id) VALUES (?, ?, ?, ?)\n"
     ]
    },
    {
     "name": "stdout",
     "output_type": "stream",
     "text": [
      "2019-04-02 09:40:58,845 INFO sqlalchemy.engine.base.Engine ('dl0.sub.evt', None, 'c3b6e97b-b75e-4c4b-85eb-5d66609c0b0c', '488b5b7e-56e8-58b9-81be-372f3bc528a6')\n"
     ]
    },
    {
     "name": "stderr",
     "output_type": "stream",
     "text": [
      "INFO:sqlalchemy.engine.base.Engine:('dl0.sub.evt', None, 'c3b6e97b-b75e-4c4b-85eb-5d66609c0b0c', '488b5b7e-56e8-58b9-81be-372f3bc528a6')\n"
     ]
    },
    {
     "name": "stdout",
     "output_type": "stream",
     "text": [
      "2019-04-02 09:40:58,848 INFO sqlalchemy.engine.base.Engine INSERT INTO entities (id, name, location, \"generatedAtTime\", \"invalidatedAtTime\", comment, \"classType\", \"entityDescription_id\") VALUES (?, ?, ?, ?, ?, ?, ?, ?)\n"
     ]
    },
    {
     "name": "stderr",
     "output_type": "stream",
     "text": [
      "INFO:sqlalchemy.engine.base.Engine:INSERT INTO entities (id, name, location, \"generatedAtTime\", \"invalidatedAtTime\", comment, \"classType\", \"entityDescription_id\") VALUES (?, ?, ?, ?, ?, ?, ?, ?)\n"
     ]
    },
    {
     "name": "stdout",
     "output_type": "stream",
     "text": [
      "2019-04-02 09:40:58,849 INFO sqlalchemy.engine.base.Engine (('ed7e27d4-a0a7-43a2-97a1-511348dd37bd_status', 'status', None, None, None, None, 'value', 'status'), ('c3b6e97b-b75e-4c4b-85eb-5d66609c0b0c_status', 'status', None, None, None, None, 'value', 'status'))\n"
     ]
    },
    {
     "name": "stderr",
     "output_type": "stream",
     "text": [
      "INFO:sqlalchemy.engine.base.Engine:(('ed7e27d4-a0a7-43a2-97a1-511348dd37bd_status', 'status', None, None, None, None, 'value', 'status'), ('c3b6e97b-b75e-4c4b-85eb-5d66609c0b0c_status', 'status', None, None, None, None, 'value', 'status'))\n"
     ]
    },
    {
     "name": "stdout",
     "output_type": "stream",
     "text": [
      "2019-04-02 09:40:58,853 INFO sqlalchemy.engine.base.Engine INSERT INTO \"valueEntities\" (id, \"valueXX\") VALUES (?, ?)\n"
     ]
    },
    {
     "name": "stderr",
     "output_type": "stream",
     "text": [
      "INFO:sqlalchemy.engine.base.Engine:INSERT INTO \"valueEntities\" (id, \"valueXX\") VALUES (?, ?)\n"
     ]
    },
    {
     "name": "stdout",
     "output_type": "stream",
     "text": [
      "2019-04-02 09:40:58,856 INFO sqlalchemy.engine.base.Engine (('ed7e27d4-a0a7-43a2-97a1-511348dd37bd_status', 'completed'), ('c3b6e97b-b75e-4c4b-85eb-5d66609c0b0c_status', 'completed'))\n"
     ]
    },
    {
     "name": "stderr",
     "output_type": "stream",
     "text": [
      "INFO:sqlalchemy.engine.base.Engine:(('ed7e27d4-a0a7-43a2-97a1-511348dd37bd_status', 'completed'), ('c3b6e97b-b75e-4c4b-85eb-5d66609c0b0c_status', 'completed'))\n"
     ]
    },
    {
     "name": "stdout",
     "output_type": "stream",
     "text": [
      "2019-04-02 09:40:58,870 INFO sqlalchemy.engine.base.Engine INSERT INTO agents (id, name, type, email, affiliation, phone, address) VALUES (?, ?, ?, ?, ?, ?, ?)\n"
     ]
    },
    {
     "name": "stderr",
     "output_type": "stream",
     "text": [
      "INFO:sqlalchemy.engine.base.Engine:INSERT INTO agents (id, name, type, email, affiliation, phone, address) VALUES (?, ?, ?, ?, ?, ?, ?)\n"
     ]
    },
    {
     "name": "stdout",
     "output_type": "stream",
     "text": [
      "2019-04-02 09:40:58,872 INFO sqlalchemy.engine.base.Engine ('CTAO', 'CTA Observatory', 'Organization', None, None, None, None)\n"
     ]
    },
    {
     "name": "stderr",
     "output_type": "stream",
     "text": [
      "INFO:sqlalchemy.engine.base.Engine:('CTAO', 'CTA Observatory', 'Organization', None, None, None, None)\n"
     ]
    },
    {
     "name": "stdout",
     "output_type": "stream",
     "text": [
      "2019-04-02 09:40:58,874 INFO sqlalchemy.engine.base.Engine COMMIT\n"
     ]
    },
    {
     "name": "stderr",
     "output_type": "stream",
     "text": [
      "INFO:sqlalchemy.engine.base.Engine:COMMIT\n"
     ]
    }
   ],
   "source": [
    "import hashlib, uuid, os\n",
    "BLOCKSIZE = 65536\n",
    "hasher = hashlib.sha1()\n",
    "\n",
    "def get_file_id(url):\n",
    "    '''\n",
    "    # Computation of the hash of the file to determine the id of it\n",
    "    with open(cta_input['url'], 'rb') as afile:\n",
    "        buf = afile.read(BLOCKSIZE)\n",
    "        while len(buf) > 0:\n",
    "            hasher.update(buf)\n",
    "            buf = afile.read(BLOCKSIZE)\n",
    "            return hasher.hexdigest()\n",
    "    '''\n",
    "    logical_name = url.split('/')[-1] \n",
    "    name = logical_name + str(os.path.getctime(url))\n",
    "    file_uuid = uuid.uuid5(uuid.NAMESPACE_URL, name)\n",
    "    if session.query(exists().where(DatasetEntity.id==file_uuid)):\n",
    "        print (\"cle existante\")\n",
    "        return str(file_uuid)\n",
    "    else:\n",
    "        print (\"cle non existante\")\n",
    "        return \"\"\n",
    "\n",
    "    # universal unique id\n",
    "    #return uuid.uuid4()\n",
    "\n",
    "def set_file_id(url):\n",
    "    logical_name = url.split('/')[-1] \n",
    "    name = logical_name + str(os.path.getctime(url))\n",
    "    file_uuid = uuid.uuid5(uuid.NAMESPACE_URL, name)\n",
    "    return str(file_uuid)\n",
    "\n",
    "def add_activity(session, cta_activity):\n",
    "    if not session.query(exists().where(Activity.id==cta_activity['activity_uuid'])): # for the tests\n",
    "        current_activity = Activity(id=cta_activity['activity_uuid'])\n",
    "        current_activity.name=cta_activity['activity_name']\n",
    "        current_activity.startTime=cta_activity['start']['time_utc']\n",
    "        current_activity.endTime=cta_activity['stop']['time_utc']\n",
    "        current_activity.comment=''\n",
    "        current_activity.activityDescription_id=cta_activity['activity_name']+'_'+cta_activity['system']['ctapipe_version']\n",
    "        session.add(current_activity)\n",
    "    \n",
    "        # Association with the agent\n",
    "        wAW = WasAssociatedWith()\n",
    "        wAW.activity = cta_activity['activity_uuid']\n",
    "        wAW.agent    = \"CTAO\"\n",
    "        #wAW.role = ?\n",
    "        session.add(wAW)\n",
    "    \n",
    "\n",
    "# CTAO Agent\n",
    "agent = Agent(id=\"CTAO\")\n",
    "agent.name =\"CTA Observatory\"\n",
    "agent.type = \"Organization\"\n",
    "session.add(agent)\n",
    "\n",
    "# For each activity\n",
    "for cta_activity in p.provenance[:-1]:\n",
    "    add_activity(session, cta_activity)\n",
    "    \n",
    "    # For each input file\n",
    "    for cta_input in cta_activity['input']:\n",
    "        \n",
    "        # Get the id of the file\n",
    "        filename_uuid = get_file_id(cta_input['url'])\n",
    "            \n",
    "        # If Entity does not exist in the database, add it - current_input_file.entityDescription_id= ???\n",
    "        if filename_uuid == \"\":\n",
    "            current_input_file = DatasetEntity(id=hfilename_uuid, classType = 'dataset', \\\n",
    "                                    name = logical_name, location = cta_input['url'])\n",
    "            session.add(current_input_file)\n",
    "            \n",
    "            # Attribution to the agent - wAT.role = ?\n",
    "            wAT = WasAttributedTo(entity = filename_uuid, agent = \"CTAO\")\n",
    "            session.add(wAT)\n",
    "            \n",
    "        # Add the Used relationship\n",
    "        used1 = Used(role = cta_input['role'], activity_id = cta_activity['activity_uuid'], entity_id = filename_uuid) # incremental id\n",
    "        session.add(used1)\n",
    "    \n",
    "    # For each output file\n",
    "    for cta_output in cta_activity['output']:\n",
    "        \n",
    "        # Computation of the hash of the file to determine the id of it\n",
    "        filename_uuid = set_file_id(cta_output['url'])\n",
    "            \n",
    "        # If Entity already exists in the database, raise an Exception or a error message - #current_output_file.entityDescription_id= ???\n",
    "        if session.query(exists().where(DatasetEntity.id==filename_uuid)):\n",
    "            print (\"ERROR\")\n",
    "        else:\n",
    "            current_output_file = DatasetEntity(id=filename_uuid, classType = 'dataset', name = cta_output['url'].split('/')[-1],\\\n",
    "                                               location = cta_output['url'])\n",
    "            session.add(current_output_file)\n",
    "            \n",
    "            # Attribution to the agent - wAT.role = ?\n",
    "            wAT = WasAttributedTo(entity = filename_uuid, agent = \"CTAO\")\n",
    "            session.add(wAT)\n",
    "            \n",
    "        # Add the wasgeneratedBy relationship - incremental id\n",
    "        wGB1 = WasGeneratedBy(role = cta_output['role'], activity_id = cta_activity['activity_uuid'],\\\n",
    "                             entity_id = filename_uuid) \n",
    "        session.add(wGB1)\n",
    "        \n",
    "    # Add the status as an output ValueEntity\n",
    "    current_output_value = ValueEntity(id=cta_activity['activity_uuid']+'_status')\n",
    "    current_output_value.name = 'status'\n",
    "    current_output_value.classType = 'value'\n",
    "    current_output_value.valueXX = cta_activity['status']\n",
    "    current_output_value.entityDescription_id = 'status'\n",
    "    #current_output_value.location\n",
    "    #current_output_value.entityDescription_id= ???\n",
    "    session.add(current_output_value)\n",
    "    \n",
    "        \n",
    "session.commit()"
   ]
  },
  {
   "cell_type": "code",
   "execution_count": 16,
   "metadata": {},
   "outputs": [
    {
     "name": "stdout",
     "output_type": "stream",
     "text": [
      "2019-04-02 09:41:02,612 INFO sqlalchemy.engine.base.Engine BEGIN (implicit)\n"
     ]
    },
    {
     "name": "stderr",
     "output_type": "stream",
     "text": [
      "INFO:sqlalchemy.engine.base.Engine:BEGIN (implicit)\n"
     ]
    },
    {
     "name": "stdout",
     "output_type": "stream",
     "text": [
      "2019-04-02 09:41:02,615 INFO sqlalchemy.engine.base.Engine SELECT activities.id AS activities_id, activities.name AS activities_name, activities.\"startTime\" AS \"activities_startTime\", activities.\"endTime\" AS \"activities_endTime\", activities.comment AS activities_comment, activities.\"activityDescription_id\" AS \"activities_activityDescription_id\" \n",
      "FROM activities ORDER BY activities.id\n"
     ]
    },
    {
     "name": "stderr",
     "output_type": "stream",
     "text": [
      "INFO:sqlalchemy.engine.base.Engine:SELECT activities.id AS activities_id, activities.name AS activities_name, activities.\"startTime\" AS \"activities_startTime\", activities.\"endTime\" AS \"activities_endTime\", activities.comment AS activities_comment, activities.\"activityDescription_id\" AS \"activities_activityDescription_id\" \n",
      "FROM activities ORDER BY activities.id\n"
     ]
    },
    {
     "name": "stdout",
     "output_type": "stream",
     "text": [
      "2019-04-02 09:41:02,617 INFO sqlalchemy.engine.base.Engine ()\n"
     ]
    },
    {
     "name": "stderr",
     "output_type": "stream",
     "text": [
      "INFO:sqlalchemy.engine.base.Engine:()\n"
     ]
    },
    {
     "name": "stdout",
     "output_type": "stream",
     "text": [
      "2019-04-02 09:41:02,620 INFO sqlalchemy.engine.base.Engine SELECT entities.id AS entities_id, entities.name AS entities_name, entities.location AS entities_location, entities.\"generatedAtTime\" AS \"entities_generatedAtTime\", entities.\"invalidatedAtTime\" AS \"entities_invalidatedAtTime\", entities.comment AS entities_comment, entities.\"classType\" AS \"entities_classType\", entities.\"entityDescription_id\" AS \"entities_entityDescription_id\" \n",
      "FROM entities ORDER BY entities.id\n"
     ]
    },
    {
     "name": "stderr",
     "output_type": "stream",
     "text": [
      "INFO:sqlalchemy.engine.base.Engine:SELECT entities.id AS entities_id, entities.name AS entities_name, entities.location AS entities_location, entities.\"generatedAtTime\" AS \"entities_generatedAtTime\", entities.\"invalidatedAtTime\" AS \"entities_invalidatedAtTime\", entities.comment AS entities_comment, entities.\"classType\" AS \"entities_classType\", entities.\"entityDescription_id\" AS \"entities_entityDescription_id\" \n",
      "FROM entities ORDER BY entities.id\n"
     ]
    },
    {
     "name": "stdout",
     "output_type": "stream",
     "text": [
      "2019-04-02 09:41:02,622 INFO sqlalchemy.engine.base.Engine ()\n"
     ]
    },
    {
     "name": "stderr",
     "output_type": "stream",
     "text": [
      "INFO:sqlalchemy.engine.base.Engine:()\n"
     ]
    },
    {
     "name": "stdout",
     "output_type": "stream",
     "text": [
      "2019-04-02 09:41:02,626 INFO sqlalchemy.engine.base.Engine SELECT used.id AS used_id, used.role AS used_role, used.time AS used_time, used.activity_id AS used_activity_id, used.entity_id AS used_entity_id \n",
      "FROM used ORDER BY used.id\n"
     ]
    },
    {
     "name": "stderr",
     "output_type": "stream",
     "text": [
      "INFO:sqlalchemy.engine.base.Engine:SELECT used.id AS used_id, used.role AS used_role, used.time AS used_time, used.activity_id AS used_activity_id, used.entity_id AS used_entity_id \n",
      "FROM used ORDER BY used.id\n"
     ]
    },
    {
     "name": "stdout",
     "output_type": "stream",
     "text": [
      "2019-04-02 09:41:02,632 INFO sqlalchemy.engine.base.Engine ()\n"
     ]
    },
    {
     "name": "stderr",
     "output_type": "stream",
     "text": [
      "INFO:sqlalchemy.engine.base.Engine:()\n"
     ]
    },
    {
     "name": "stdout",
     "output_type": "stream",
     "text": [
      "2019-04-02 09:41:02,637 INFO sqlalchemy.engine.base.Engine SELECT \"wasGeneratedBy\".id AS \"wasGeneratedBy_id\", \"wasGeneratedBy\".role AS \"wasGeneratedBy_role\", \"wasGeneratedBy\".activity_id AS \"wasGeneratedBy_activity_id\", \"wasGeneratedBy\".entity_id AS \"wasGeneratedBy_entity_id\" \n",
      "FROM \"wasGeneratedBy\" ORDER BY \"wasGeneratedBy\".id\n"
     ]
    },
    {
     "name": "stderr",
     "output_type": "stream",
     "text": [
      "INFO:sqlalchemy.engine.base.Engine:SELECT \"wasGeneratedBy\".id AS \"wasGeneratedBy_id\", \"wasGeneratedBy\".role AS \"wasGeneratedBy_role\", \"wasGeneratedBy\".activity_id AS \"wasGeneratedBy_activity_id\", \"wasGeneratedBy\".entity_id AS \"wasGeneratedBy_entity_id\" \n",
      "FROM \"wasGeneratedBy\" ORDER BY \"wasGeneratedBy\".id\n"
     ]
    },
    {
     "name": "stdout",
     "output_type": "stream",
     "text": [
      "2019-04-02 09:41:02,639 INFO sqlalchemy.engine.base.Engine ()\n"
     ]
    },
    {
     "name": "stderr",
     "output_type": "stream",
     "text": [
      "INFO:sqlalchemy.engine.base.Engine:()\n"
     ]
    },
    {
     "name": "stdout",
     "output_type": "stream",
     "text": [
      "2019-04-02 09:41:02,642 INFO sqlalchemy.engine.base.Engine SELECT \"datasetEntities\".id AS \"datasetEntities_id\", entities.id AS entities_id, entities.name AS entities_name, entities.location AS entities_location, entities.\"generatedAtTime\" AS \"entities_generatedAtTime\", entities.\"invalidatedAtTime\" AS \"entities_invalidatedAtTime\", entities.comment AS entities_comment, entities.\"classType\" AS \"entities_classType\", entities.\"entityDescription_id\" AS \"entities_entityDescription_id\" \n",
      "FROM entities JOIN \"datasetEntities\" ON entities.id = \"datasetEntities\".id ORDER BY \"datasetEntities\".id\n"
     ]
    },
    {
     "name": "stderr",
     "output_type": "stream",
     "text": [
      "INFO:sqlalchemy.engine.base.Engine:SELECT \"datasetEntities\".id AS \"datasetEntities_id\", entities.id AS entities_id, entities.name AS entities_name, entities.location AS entities_location, entities.\"generatedAtTime\" AS \"entities_generatedAtTime\", entities.\"invalidatedAtTime\" AS \"entities_invalidatedAtTime\", entities.comment AS entities_comment, entities.\"classType\" AS \"entities_classType\", entities.\"entityDescription_id\" AS \"entities_entityDescription_id\" \n",
      "FROM entities JOIN \"datasetEntities\" ON entities.id = \"datasetEntities\".id ORDER BY \"datasetEntities\".id\n"
     ]
    },
    {
     "name": "stdout",
     "output_type": "stream",
     "text": [
      "2019-04-02 09:41:02,644 INFO sqlalchemy.engine.base.Engine ()\n"
     ]
    },
    {
     "name": "stderr",
     "output_type": "stream",
     "text": [
      "INFO:sqlalchemy.engine.base.Engine:()\n"
     ]
    },
    {
     "name": "stdout",
     "output_type": "stream",
     "text": [
      "2019-04-02 09:41:02,648 INFO sqlalchemy.engine.base.Engine SELECT \"valueEntities\".id AS \"valueEntities_id\", entities.id AS entities_id, entities.name AS entities_name, entities.location AS entities_location, entities.\"generatedAtTime\" AS \"entities_generatedAtTime\", entities.\"invalidatedAtTime\" AS \"entities_invalidatedAtTime\", entities.comment AS entities_comment, entities.\"classType\" AS \"entities_classType\", entities.\"entityDescription_id\" AS \"entities_entityDescription_id\", \"valueEntities\".\"valueXX\" AS \"valueEntities_valueXX\" \n",
      "FROM entities JOIN \"valueEntities\" ON entities.id = \"valueEntities\".id ORDER BY \"valueEntities\".id\n"
     ]
    },
    {
     "name": "stderr",
     "output_type": "stream",
     "text": [
      "INFO:sqlalchemy.engine.base.Engine:SELECT \"valueEntities\".id AS \"valueEntities_id\", entities.id AS entities_id, entities.name AS entities_name, entities.location AS entities_location, entities.\"generatedAtTime\" AS \"entities_generatedAtTime\", entities.\"invalidatedAtTime\" AS \"entities_invalidatedAtTime\", entities.comment AS entities_comment, entities.\"classType\" AS \"entities_classType\", entities.\"entityDescription_id\" AS \"entities_entityDescription_id\", \"valueEntities\".\"valueXX\" AS \"valueEntities_valueXX\" \n",
      "FROM entities JOIN \"valueEntities\" ON entities.id = \"valueEntities\".id ORDER BY \"valueEntities\".id\n"
     ]
    },
    {
     "name": "stdout",
     "output_type": "stream",
     "text": [
      "2019-04-02 09:41:02,652 INFO sqlalchemy.engine.base.Engine ()\n"
     ]
    },
    {
     "name": "stderr",
     "output_type": "stream",
     "text": [
      "INFO:sqlalchemy.engine.base.Engine:()\n"
     ]
    },
    {
     "name": "stdout",
     "output_type": "stream",
     "text": [
      "2019-04-02 09:41:02,657 INFO sqlalchemy.engine.base.Engine SELECT parameters.id AS parameters_id, \"valueEntities\".id AS \"valueEntities_id\", entities.id AS entities_id, entities.name AS entities_name, entities.location AS entities_location, entities.\"generatedAtTime\" AS \"entities_generatedAtTime\", entities.\"invalidatedAtTime\" AS \"entities_invalidatedAtTime\", entities.comment AS entities_comment, entities.\"classType\" AS \"entities_classType\", entities.\"entityDescription_id\" AS \"entities_entityDescription_id\", \"valueEntities\".\"valueXX\" AS \"valueEntities_valueXX\", parameters.\"valueType\" AS \"parameters_valueType\", parameters.unit AS parameters_unit, parameters.ucd AS parameters_ucd, parameters.utype AS parameters_utype \n",
      "FROM entities JOIN \"valueEntities\" ON entities.id = \"valueEntities\".id JOIN parameters ON \"valueEntities\".id = parameters.id ORDER BY parameters.id\n"
     ]
    },
    {
     "name": "stderr",
     "output_type": "stream",
     "text": [
      "INFO:sqlalchemy.engine.base.Engine:SELECT parameters.id AS parameters_id, \"valueEntities\".id AS \"valueEntities_id\", entities.id AS entities_id, entities.name AS entities_name, entities.location AS entities_location, entities.\"generatedAtTime\" AS \"entities_generatedAtTime\", entities.\"invalidatedAtTime\" AS \"entities_invalidatedAtTime\", entities.comment AS entities_comment, entities.\"classType\" AS \"entities_classType\", entities.\"entityDescription_id\" AS \"entities_entityDescription_id\", \"valueEntities\".\"valueXX\" AS \"valueEntities_valueXX\", parameters.\"valueType\" AS \"parameters_valueType\", parameters.unit AS parameters_unit, parameters.ucd AS parameters_ucd, parameters.utype AS parameters_utype \n",
      "FROM entities JOIN \"valueEntities\" ON entities.id = \"valueEntities\".id JOIN parameters ON \"valueEntities\".id = parameters.id ORDER BY parameters.id\n"
     ]
    },
    {
     "name": "stdout",
     "output_type": "stream",
     "text": [
      "2019-04-02 09:41:02,660 INFO sqlalchemy.engine.base.Engine ()\n"
     ]
    },
    {
     "name": "stderr",
     "output_type": "stream",
     "text": [
      "INFO:sqlalchemy.engine.base.Engine:()\n"
     ]
    },
    {
     "name": "stdout",
     "output_type": "stream",
     "text": [
      "2019-04-02 09:41:02,670 INFO sqlalchemy.engine.base.Engine SELECT \"activityDescriptions\".id AS \"activityDescriptions_id\", \"activityDescriptions\".name AS \"activityDescriptions_name\", \"activityDescriptions\".activity_type AS \"activityDescriptions_activity_type\", \"activityDescriptions\".activity_subtype AS \"activityDescriptions_activity_subtype\", \"activityDescriptions\".version AS \"activityDescriptions_version\", \"activityDescriptions\".doculink AS \"activityDescriptions_doculink\" \n",
      "FROM \"activityDescriptions\" ORDER BY \"activityDescriptions\".id\n"
     ]
    },
    {
     "name": "stderr",
     "output_type": "stream",
     "text": [
      "INFO:sqlalchemy.engine.base.Engine:SELECT \"activityDescriptions\".id AS \"activityDescriptions_id\", \"activityDescriptions\".name AS \"activityDescriptions_name\", \"activityDescriptions\".activity_type AS \"activityDescriptions_activity_type\", \"activityDescriptions\".activity_subtype AS \"activityDescriptions_activity_subtype\", \"activityDescriptions\".version AS \"activityDescriptions_version\", \"activityDescriptions\".doculink AS \"activityDescriptions_doculink\" \n",
      "FROM \"activityDescriptions\" ORDER BY \"activityDescriptions\".id\n"
     ]
    },
    {
     "name": "stdout",
     "output_type": "stream",
     "text": [
      "2019-04-02 09:41:02,673 INFO sqlalchemy.engine.base.Engine ()\n"
     ]
    },
    {
     "name": "stderr",
     "output_type": "stream",
     "text": [
      "INFO:sqlalchemy.engine.base.Engine:()\n"
     ]
    },
    {
     "name": "stdout",
     "output_type": "stream",
     "text": [
      "2019-04-02 09:41:02,679 INFO sqlalchemy.engine.base.Engine SELECT \"entityDescriptions\".id AS \"entityDescriptions_id\", \"entityDescriptions\".name AS \"entityDescriptions_name\", \"entityDescriptions\".type AS \"entityDescriptions_type\", \"entityDescriptions\".description AS \"entityDescriptions_description\", \"entityDescriptions\".doculink AS \"entityDescriptions_doculink\", \"entityDescriptions\".\"classType\" AS \"entityDescriptions_classType\" \n",
      "FROM \"entityDescriptions\" ORDER BY \"entityDescriptions\".id\n"
     ]
    },
    {
     "name": "stderr",
     "output_type": "stream",
     "text": [
      "INFO:sqlalchemy.engine.base.Engine:SELECT \"entityDescriptions\".id AS \"entityDescriptions_id\", \"entityDescriptions\".name AS \"entityDescriptions_name\", \"entityDescriptions\".type AS \"entityDescriptions_type\", \"entityDescriptions\".description AS \"entityDescriptions_description\", \"entityDescriptions\".doculink AS \"entityDescriptions_doculink\", \"entityDescriptions\".\"classType\" AS \"entityDescriptions_classType\" \n",
      "FROM \"entityDescriptions\" ORDER BY \"entityDescriptions\".id\n"
     ]
    },
    {
     "name": "stdout",
     "output_type": "stream",
     "text": [
      "2019-04-02 09:41:02,682 INFO sqlalchemy.engine.base.Engine ()\n"
     ]
    },
    {
     "name": "stderr",
     "output_type": "stream",
     "text": [
      "INFO:sqlalchemy.engine.base.Engine:()\n"
     ]
    },
    {
     "name": "stdout",
     "output_type": "stream",
     "text": [
      "2019-04-02 09:41:02,686 INFO sqlalchemy.engine.base.Engine SELECT \"usageDescriptions\".id AS \"usageDescriptions_id\", \"usageDescriptions\".role AS \"usageDescriptions_role\", \"usageDescriptions\".description AS \"usageDescriptions_description\", \"usageDescriptions\".type AS \"usageDescriptions_type\", \"usageDescriptions\".\"activityDescription_id\" AS \"usageDescriptions_activityDescription_id\", \"usageDescriptions\".\"entityDescription_id\" AS \"usageDescriptions_entityDescription_id\" \n",
      "FROM \"usageDescriptions\" ORDER BY \"usageDescriptions\".id\n"
     ]
    },
    {
     "name": "stderr",
     "output_type": "stream",
     "text": [
      "INFO:sqlalchemy.engine.base.Engine:SELECT \"usageDescriptions\".id AS \"usageDescriptions_id\", \"usageDescriptions\".role AS \"usageDescriptions_role\", \"usageDescriptions\".description AS \"usageDescriptions_description\", \"usageDescriptions\".type AS \"usageDescriptions_type\", \"usageDescriptions\".\"activityDescription_id\" AS \"usageDescriptions_activityDescription_id\", \"usageDescriptions\".\"entityDescription_id\" AS \"usageDescriptions_entityDescription_id\" \n",
      "FROM \"usageDescriptions\" ORDER BY \"usageDescriptions\".id\n"
     ]
    },
    {
     "name": "stdout",
     "output_type": "stream",
     "text": [
      "2019-04-02 09:41:02,688 INFO sqlalchemy.engine.base.Engine ()\n"
     ]
    },
    {
     "name": "stderr",
     "output_type": "stream",
     "text": [
      "INFO:sqlalchemy.engine.base.Engine:()\n"
     ]
    },
    {
     "name": "stdout",
     "output_type": "stream",
     "text": [
      "2019-04-02 09:41:02,691 INFO sqlalchemy.engine.base.Engine SELECT \"generationDescriptions\".id AS \"generationDescriptions_id\", \"generationDescriptions\".role AS \"generationDescriptions_role\", \"generationDescriptions\".description AS \"generationDescriptions_description\", \"generationDescriptions\".type AS \"generationDescriptions_type\", \"generationDescriptions\".\"activityDescription_id\" AS \"generationDescriptions_activityDescription_id\", \"generationDescriptions\".\"entityDescription_id\" AS \"generationDescriptions_entityDescription_id\" \n",
      "FROM \"generationDescriptions\" ORDER BY \"generationDescriptions\".id\n"
     ]
    },
    {
     "name": "stderr",
     "output_type": "stream",
     "text": [
      "INFO:sqlalchemy.engine.base.Engine:SELECT \"generationDescriptions\".id AS \"generationDescriptions_id\", \"generationDescriptions\".role AS \"generationDescriptions_role\", \"generationDescriptions\".description AS \"generationDescriptions_description\", \"generationDescriptions\".type AS \"generationDescriptions_type\", \"generationDescriptions\".\"activityDescription_id\" AS \"generationDescriptions_activityDescription_id\", \"generationDescriptions\".\"entityDescription_id\" AS \"generationDescriptions_entityDescription_id\" \n",
      "FROM \"generationDescriptions\" ORDER BY \"generationDescriptions\".id\n"
     ]
    },
    {
     "name": "stdout",
     "output_type": "stream",
     "text": [
      "2019-04-02 09:41:02,695 INFO sqlalchemy.engine.base.Engine ()\n"
     ]
    },
    {
     "name": "stderr",
     "output_type": "stream",
     "text": [
      "INFO:sqlalchemy.engine.base.Engine:()\n"
     ]
    },
    {
     "name": "stdout",
     "output_type": "stream",
     "text": [
      "2019-04-02 09:41:02,702 INFO sqlalchemy.engine.base.Engine SELECT \"datasetDescriptions\".id AS \"datasetDescriptions_id\", \"entityDescriptions\".id AS \"entityDescriptions_id\", \"entityDescriptions\".name AS \"entityDescriptions_name\", \"entityDescriptions\".type AS \"entityDescriptions_type\", \"entityDescriptions\".description AS \"entityDescriptions_description\", \"entityDescriptions\".doculink AS \"entityDescriptions_doculink\", \"entityDescriptions\".\"classType\" AS \"entityDescriptions_classType\", \"datasetDescriptions\".\"contentType\" AS \"datasetDescriptions_contentType\" \n",
      "FROM \"entityDescriptions\" JOIN \"datasetDescriptions\" ON \"entityDescriptions\".id = \"datasetDescriptions\".id ORDER BY \"datasetDescriptions\".id\n"
     ]
    },
    {
     "name": "stderr",
     "output_type": "stream",
     "text": [
      "INFO:sqlalchemy.engine.base.Engine:SELECT \"datasetDescriptions\".id AS \"datasetDescriptions_id\", \"entityDescriptions\".id AS \"entityDescriptions_id\", \"entityDescriptions\".name AS \"entityDescriptions_name\", \"entityDescriptions\".type AS \"entityDescriptions_type\", \"entityDescriptions\".description AS \"entityDescriptions_description\", \"entityDescriptions\".doculink AS \"entityDescriptions_doculink\", \"entityDescriptions\".\"classType\" AS \"entityDescriptions_classType\", \"datasetDescriptions\".\"contentType\" AS \"datasetDescriptions_contentType\" \n",
      "FROM \"entityDescriptions\" JOIN \"datasetDescriptions\" ON \"entityDescriptions\".id = \"datasetDescriptions\".id ORDER BY \"datasetDescriptions\".id\n"
     ]
    },
    {
     "name": "stdout",
     "output_type": "stream",
     "text": [
      "2019-04-02 09:41:02,706 INFO sqlalchemy.engine.base.Engine ()\n"
     ]
    },
    {
     "name": "stderr",
     "output_type": "stream",
     "text": [
      "INFO:sqlalchemy.engine.base.Engine:()\n"
     ]
    },
    {
     "name": "stdout",
     "output_type": "stream",
     "text": [
      "2019-04-02 09:41:02,709 INFO sqlalchemy.engine.base.Engine SELECT \"valueDescriptions\".id AS \"valueDescriptions_id\", \"entityDescriptions\".id AS \"entityDescriptions_id\", \"entityDescriptions\".name AS \"entityDescriptions_name\", \"entityDescriptions\".type AS \"entityDescriptions_type\", \"entityDescriptions\".description AS \"entityDescriptions_description\", \"entityDescriptions\".doculink AS \"entityDescriptions_doculink\", \"entityDescriptions\".\"classType\" AS \"entityDescriptions_classType\", \"valueDescriptions\".\"valueType\" AS \"valueDescriptions_valueType\", \"valueDescriptions\".unit AS \"valueDescriptions_unit\", \"valueDescriptions\".ucd AS \"valueDescriptions_ucd\", \"valueDescriptions\".utype AS \"valueDescriptions_utype\" \n",
      "FROM \"entityDescriptions\" JOIN \"valueDescriptions\" ON \"entityDescriptions\".id = \"valueDescriptions\".id ORDER BY \"valueDescriptions\".id\n"
     ]
    },
    {
     "name": "stderr",
     "output_type": "stream",
     "text": [
      "INFO:sqlalchemy.engine.base.Engine:SELECT \"valueDescriptions\".id AS \"valueDescriptions_id\", \"entityDescriptions\".id AS \"entityDescriptions_id\", \"entityDescriptions\".name AS \"entityDescriptions_name\", \"entityDescriptions\".type AS \"entityDescriptions_type\", \"entityDescriptions\".description AS \"entityDescriptions_description\", \"entityDescriptions\".doculink AS \"entityDescriptions_doculink\", \"entityDescriptions\".\"classType\" AS \"entityDescriptions_classType\", \"valueDescriptions\".\"valueType\" AS \"valueDescriptions_valueType\", \"valueDescriptions\".unit AS \"valueDescriptions_unit\", \"valueDescriptions\".ucd AS \"valueDescriptions_ucd\", \"valueDescriptions\".utype AS \"valueDescriptions_utype\" \n",
      "FROM \"entityDescriptions\" JOIN \"valueDescriptions\" ON \"entityDescriptions\".id = \"valueDescriptions\".id ORDER BY \"valueDescriptions\".id\n"
     ]
    },
    {
     "name": "stdout",
     "output_type": "stream",
     "text": [
      "2019-04-02 09:41:02,711 INFO sqlalchemy.engine.base.Engine ()\n"
     ]
    },
    {
     "name": "stderr",
     "output_type": "stream",
     "text": [
      "INFO:sqlalchemy.engine.base.Engine:()\n"
     ]
    },
    {
     "name": "stdout",
     "output_type": "stream",
     "text": [
      "2019-04-02 09:41:02,714 INFO sqlalchemy.engine.base.Engine SELECT \"parameterDescriptions\".id AS \"parameterDescriptions_id\", \"valueDescriptions\".id AS \"valueDescriptions_id\", \"entityDescriptions\".id AS \"entityDescriptions_id\", \"entityDescriptions\".name AS \"entityDescriptions_name\", \"entityDescriptions\".type AS \"entityDescriptions_type\", \"entityDescriptions\".description AS \"entityDescriptions_description\", \"entityDescriptions\".doculink AS \"entityDescriptions_doculink\", \"entityDescriptions\".\"classType\" AS \"entityDescriptions_classType\", \"valueDescriptions\".\"valueType\" AS \"valueDescriptions_valueType\", \"valueDescriptions\".unit AS \"valueDescriptions_unit\", \"valueDescriptions\".ucd AS \"valueDescriptions_ucd\", \"valueDescriptions\".utype AS \"valueDescriptions_utype\", \"parameterDescriptions\".min AS \"parameterDescriptions_min\", \"parameterDescriptions\".max AS \"parameterDescriptions_max\", \"parameterDescriptions\".options AS \"parameterDescriptions_options\", \"parameterDescriptions\".\"default\" AS \"parameterDescriptions_default\" \n",
      "FROM \"entityDescriptions\" JOIN \"valueDescriptions\" ON \"entityDescriptions\".id = \"valueDescriptions\".id JOIN \"parameterDescriptions\" ON \"valueDescriptions\".id = \"parameterDescriptions\".id ORDER BY \"parameterDescriptions\".id\n"
     ]
    },
    {
     "name": "stderr",
     "output_type": "stream",
     "text": [
      "INFO:sqlalchemy.engine.base.Engine:SELECT \"parameterDescriptions\".id AS \"parameterDescriptions_id\", \"valueDescriptions\".id AS \"valueDescriptions_id\", \"entityDescriptions\".id AS \"entityDescriptions_id\", \"entityDescriptions\".name AS \"entityDescriptions_name\", \"entityDescriptions\".type AS \"entityDescriptions_type\", \"entityDescriptions\".description AS \"entityDescriptions_description\", \"entityDescriptions\".doculink AS \"entityDescriptions_doculink\", \"entityDescriptions\".\"classType\" AS \"entityDescriptions_classType\", \"valueDescriptions\".\"valueType\" AS \"valueDescriptions_valueType\", \"valueDescriptions\".unit AS \"valueDescriptions_unit\", \"valueDescriptions\".ucd AS \"valueDescriptions_ucd\", \"valueDescriptions\".utype AS \"valueDescriptions_utype\", \"parameterDescriptions\".min AS \"parameterDescriptions_min\", \"parameterDescriptions\".max AS \"parameterDescriptions_max\", \"parameterDescriptions\".options AS \"parameterDescriptions_options\", \"parameterDescriptions\".\"default\" AS \"parameterDescriptions_default\" \n",
      "FROM \"entityDescriptions\" JOIN \"valueDescriptions\" ON \"entityDescriptions\".id = \"valueDescriptions\".id JOIN \"parameterDescriptions\" ON \"valueDescriptions\".id = \"parameterDescriptions\".id ORDER BY \"parameterDescriptions\".id\n"
     ]
    },
    {
     "name": "stdout",
     "output_type": "stream",
     "text": [
      "2019-04-02 09:41:02,716 INFO sqlalchemy.engine.base.Engine ()\n"
     ]
    },
    {
     "name": "stderr",
     "output_type": "stream",
     "text": [
      "INFO:sqlalchemy.engine.base.Engine:()\n"
     ]
    },
    {
     "name": "stdout",
     "output_type": "stream",
     "text": [
      "2019-04-02 09:41:02,719 INFO sqlalchemy.engine.base.Engine SELECT agents.id AS agents_id, agents.name AS agents_name, agents.type AS agents_type, agents.email AS agents_email, agents.affiliation AS agents_affiliation, agents.phone AS agents_phone, agents.address AS agents_address \n",
      "FROM agents ORDER BY agents.id\n"
     ]
    },
    {
     "name": "stderr",
     "output_type": "stream",
     "text": [
      "INFO:sqlalchemy.engine.base.Engine:SELECT agents.id AS agents_id, agents.name AS agents_name, agents.type AS agents_type, agents.email AS agents_email, agents.affiliation AS agents_affiliation, agents.phone AS agents_phone, agents.address AS agents_address \n",
      "FROM agents ORDER BY agents.id\n"
     ]
    },
    {
     "name": "stdout",
     "output_type": "stream",
     "text": [
      "2019-04-02 09:41:02,720 INFO sqlalchemy.engine.base.Engine ()\n"
     ]
    },
    {
     "name": "stderr",
     "output_type": "stream",
     "text": [
      "INFO:sqlalchemy.engine.base.Engine:()\n"
     ]
    },
    {
     "name": "stdout",
     "output_type": "stream",
     "text": [
      "2019-04-02 09:41:02,724 INFO sqlalchemy.engine.base.Engine SELECT \"wasAttributedTo\".id AS \"wasAttributedTo_id\", \"wasAttributedTo\".entity AS \"wasAttributedTo_entity\", \"wasAttributedTo\".agent AS \"wasAttributedTo_agent\", \"wasAttributedTo\".role AS \"wasAttributedTo_role\" \n",
      "FROM \"wasAttributedTo\" ORDER BY \"wasAttributedTo\".id\n"
     ]
    },
    {
     "name": "stderr",
     "output_type": "stream",
     "text": [
      "INFO:sqlalchemy.engine.base.Engine:SELECT \"wasAttributedTo\".id AS \"wasAttributedTo_id\", \"wasAttributedTo\".entity AS \"wasAttributedTo_entity\", \"wasAttributedTo\".agent AS \"wasAttributedTo_agent\", \"wasAttributedTo\".role AS \"wasAttributedTo_role\" \n",
      "FROM \"wasAttributedTo\" ORDER BY \"wasAttributedTo\".id\n"
     ]
    },
    {
     "name": "stdout",
     "output_type": "stream",
     "text": [
      "2019-04-02 09:41:02,726 INFO sqlalchemy.engine.base.Engine ()\n"
     ]
    },
    {
     "name": "stderr",
     "output_type": "stream",
     "text": [
      "INFO:sqlalchemy.engine.base.Engine:()\n"
     ]
    },
    {
     "name": "stdout",
     "output_type": "stream",
     "text": [
      "2019-04-02 09:41:02,729 INFO sqlalchemy.engine.base.Engine SELECT \"wasAssociatedWith\".id AS \"wasAssociatedWith_id\", \"wasAssociatedWith\".activity AS \"wasAssociatedWith_activity\", \"wasAssociatedWith\".agent AS \"wasAssociatedWith_agent\", \"wasAssociatedWith\".role AS \"wasAssociatedWith_role\" \n",
      "FROM \"wasAssociatedWith\" ORDER BY \"wasAssociatedWith\".id\n"
     ]
    },
    {
     "name": "stderr",
     "output_type": "stream",
     "text": [
      "INFO:sqlalchemy.engine.base.Engine:SELECT \"wasAssociatedWith\".id AS \"wasAssociatedWith_id\", \"wasAssociatedWith\".activity AS \"wasAssociatedWith_activity\", \"wasAssociatedWith\".agent AS \"wasAssociatedWith_agent\", \"wasAssociatedWith\".role AS \"wasAssociatedWith_role\" \n",
      "FROM \"wasAssociatedWith\" ORDER BY \"wasAssociatedWith\".id\n"
     ]
    },
    {
     "name": "stdout",
     "output_type": "stream",
     "text": [
      "2019-04-02 09:41:02,730 INFO sqlalchemy.engine.base.Engine ()\n"
     ]
    },
    {
     "name": "stderr",
     "output_type": "stream",
     "text": [
      "INFO:sqlalchemy.engine.base.Engine:()\n"
     ]
    }
   ],
   "source": [
    "# Put the results in a file for the Provenance RFC\n",
    "with open(\"muons_provRFC.txt\", \"w\") as prov:\n",
    "    prov.write(\"Provenance working example - CTA ctapipe-display-muons\\n\")\n",
    "    prov.write(\"datamodel version 1.2 / preparation for PR-version 2 January 2019. MS.\\n\")\n",
    "    prov.write(\"=========================================================================\\n\")\n",
    "    prov.write(\"Remarks\\n\")\n",
    "    prov.write(\"- ActivityDescription id = activity_name + '_' + ctapipe version\\n\")\n",
    "    prov.write(\"- Activity id = uuid returned from ctapipe\\n\")  \n",
    "    prov.write(\"- Entity id = hash (file)\\n\")\n",
    "    prov.write(\"- Link between Entity and EntityDescription not defined. Via role?\\n\")\n",
    "    prov.write(\"- Used and WasGeneratedBy Ids = activity id + '_' + 'entity id or incremental?\\n\")\n",
    "    prov.write(\"\\n\")\n",
    "    prov.write(\"\\n\")\n",
    "    prov.write(\"=========================================================================\\n\")\n",
    "    prov.write(\"\\n\")\n",
    "\n",
    "    # Opérations sur le fichier\n",
    "    for classname in [Activity, Entity, Used, WasGeneratedBy, \\\n",
    "                      DatasetEntity, ValueEntity, Parameter,\\\n",
    "                      ActivityDescription, EntityDescription, UsageDescription, GenerationDescription, \\\n",
    "                      DatasetDescription, ValueDescription, ParameterDescription,\\\n",
    "                      Agent, WasAttributedTo, WasAssociatedWith]:\n",
    "        for instance in session.query(classname).order_by(classname.id):\n",
    "            prov.write(\"%s\\n\" %instance)\n",
    "prov.close()"
   ]
  },
  {
   "cell_type": "code",
   "execution_count": 17,
   "metadata": {},
   "outputs": [
    {
     "name": "stdout",
     "output_type": "stream",
     "text": [
      "Provenance working example - CTA ctapipe-display-muons\n",
      "datamodel version 1.2 / preparation for PR-version 2 January 2019. MS.\n",
      "=========================================================================\n",
      "Remarks\n",
      "- ActivityDescription id = activity_name + '_' + ctapipe version\n",
      "- Activity id = uuid returned from ctapipe\n",
      "- Entity id = hash (file)\n",
      "- Link between Entity and EntityDescription not defined. Via role?\n",
      "- Used and WasGeneratedBy Ids = activity id + '_' + 'entity id or incremental?\n",
      "\n",
      "\n",
      "=========================================================================\n",
      "\n",
      "ValueEntity.id=c3b6e97b-b75e-4c4b-85eb-5d66609c0b0c_status\n",
      "ValueEntity.classType=value\n",
      "ValueEntity.name=status\n",
      "ValueEntity.location=None\n",
      "ValueEntity.generatedAtTime=None\n",
      "ValueEntity.invalidatedAtTime=None\n",
      "ValueEntity.comment=None\n",
      "ValueEntity.entityDescription_id=status\n",
      "\n",
      "ValueEntity.id=ed7e27d4-a0a7-43a2-97a1-511348dd37bd_status\n",
      "ValueEntity.classType=value\n",
      "ValueEntity.name=status\n",
      "ValueEntity.location=None\n",
      "ValueEntity.generatedAtTime=None\n",
      "ValueEntity.invalidatedAtTime=None\n",
      "ValueEntity.comment=None\n",
      "ValueEntity.entityDescription_id=status\n",
      "\n",
      "Used.id=1\n",
      "Used.role=dl0.sub.evt\n",
      "Used.time=None\n",
      "Used.activity_id=ed7e27d4-a0a7-43a2-97a1-511348dd37bd\n",
      "Used.entity_id=488b5b7e-56e8-58b9-81be-372f3bc528a6\n",
      "\n",
      "Used.id=2\n",
      "Used.role=dl0.sub.evt\n",
      "Used.time=None\n",
      "Used.activity_id=c3b6e97b-b75e-4c4b-85eb-5d66609c0b0c\n",
      "Used.entity_id=488b5b7e-56e8-58b9-81be-372f3bc528a6\n",
      "\n",
      "WasGeneratedBy.id=1\n",
      "WasGeneratedBy.role=dl1.tel.evt.muon\n",
      "WasGeneratedBy.activity_id=ed7e27d4-a0a7-43a2-97a1-511348dd37bd\n",
      "WasGeneratedBy.entity_id=4b19eb8d-21a9-5351-b4cc-09d0790f594e\n",
      "\n",
      "WasGeneratedBy.id=2\n",
      "WasGeneratedBy.role=dl1.tel.evt.muon\n",
      "WasGeneratedBy.activity_id=c3b6e97b-b75e-4c4b-85eb-5d66609c0b0c\n",
      "WasGeneratedBy.entity_id=4b19eb8d-21a9-5351-b4cc-09d0790f594e\n",
      "\n",
      "ValueEntity.id=c3b6e97b-b75e-4c4b-85eb-5d66609c0b0c_status\n",
      "ValueEntity.classType=value\n",
      "ValueEntity.name=status\n",
      "ValueEntity.location=None\n",
      "ValueEntity.generatedAtTime=None\n",
      "ValueEntity.invalidatedAtTime=None\n",
      "ValueEntity.comment=None\n",
      "ValueEntity.entityDescription_id=status\n",
      "\n",
      "ValueEntity.id=ed7e27d4-a0a7-43a2-97a1-511348dd37bd_status\n",
      "ValueEntity.classType=value\n",
      "ValueEntity.name=status\n",
      "ValueEntity.location=None\n",
      "ValueEntity.generatedAtTime=None\n",
      "ValueEntity.invalidatedAtTime=None\n",
      "ValueEntity.comment=None\n",
      "ValueEntity.entityDescription_id=status\n",
      "\n",
      "ActivityDescription.id=ctapipe_display_muons_0.6.1\n",
      "ActivityDescription.name=ctapipe_display_muons\n",
      "ActivityDescription.activity_type=\n",
      "ActivityDescription.activity_subtype=\n",
      "ActivityDescription.version=0.6.1\n",
      "ActivityDescription.doculink=\n",
      "\n",
      "DatasetDescription.id=muons_hdf5\n",
      "DatasetDescription.name=muons\n",
      "DatasetDescription.type=None\n",
      "DatasetDescription.description=muon file\n",
      "DatasetDescription.doculink=None\n",
      "DatasetDescription.classType=datasetDescription\n",
      "\n",
      "DatasetDescription.id=proton_events\n",
      "DatasetDescription.name=protons\n",
      "DatasetDescription.type=None\n",
      "DatasetDescription.description=proton file\n",
      "DatasetDescription.doculink=None\n",
      "DatasetDescription.classType=datasetDescription\n",
      "\n",
      "ValueDescription.id=status\n",
      "ValueDescription.name=None\n",
      "ValueDescription.type=None\n",
      "ValueDescription.description=None\n",
      "ValueDescription.doculink=None\n",
      "ValueDescription.classType=valueDescription\n",
      "\n",
      "UsageDescription.id=ctapipe_display_muons_0.6.1_proton_events\n",
      "UsageDescription.role=dl0.sub.evt\n",
      "UsageDescription.description=None\n",
      "UsageDescription.type=None\n",
      "UsageDescription.activityDescription_id=ctapipe_display_muons_0.6.1\n",
      "UsageDescription.entityDescription_id=proton_events\n",
      "\n",
      "GenerationDescription.id=ctapipe_display_muons_0.6.1_muons_hdf5\n",
      "GenerationDescription.role=dl0.sub.evt\n",
      "GenerationDescription.description=None\n",
      "GenerationDescription.type=None\n",
      "GenerationDescription.activityDescription_id=ctapipe_display_muons_0.6.1\n",
      "GenerationDescription.entityDescription_id=muons_hdf5\n",
      "\n",
      "GenerationDescription.id=ctapipe_display_muons_0.6.1_status\n",
      "GenerationDescription.role=quality\n",
      "GenerationDescription.description=None\n",
      "GenerationDescription.type=None\n",
      "GenerationDescription.activityDescription_id=ctapipe_display_muons_0.6.1\n",
      "GenerationDescription.entityDescription_id=status\n",
      "\n",
      "DatasetDescription.id=muons_hdf5\n",
      "DatasetDescription.name=muons\n",
      "DatasetDescription.type=None\n",
      "DatasetDescription.description=muon file\n",
      "DatasetDescription.doculink=None\n",
      "DatasetDescription.classType=datasetDescription\n",
      "\n",
      "DatasetDescription.id=proton_events\n",
      "DatasetDescription.name=protons\n",
      "DatasetDescription.type=None\n",
      "DatasetDescription.description=proton file\n",
      "DatasetDescription.doculink=None\n",
      "DatasetDescription.classType=datasetDescription\n",
      "\n",
      "ValueDescription.id=status\n",
      "ValueDescription.name=None\n",
      "ValueDescription.type=None\n",
      "ValueDescription.description=None\n",
      "ValueDescription.doculink=None\n",
      "ValueDescription.classType=valueDescription\n",
      "\n",
      "Agent.id=CTAO\n",
      "Agent.name=CTA Observatory\n",
      "Agent.type=Organization\n",
      "Agent.email=None\n",
      "Agent.affiliation=None\n",
      "Agent.phone=None\n",
      "Agent.address=None\n",
      "\n"
     ]
    }
   ],
   "source": [
    "# Display the file contents\n",
    "with open(\"muons_provRFC.txt\", \"r\") as prov:\n",
    "    for line in prov:\n",
    "        print (line[:-1])\n",
    "prov.close()"
   ]
  },
  {
   "cell_type": "code",
   "execution_count": null,
   "metadata": {
    "collapsed": true
   },
   "outputs": [],
   "source": [
    "session.close()"
   ]
  }
 ],
 "metadata": {
  "kernelspec": {
   "display_name": "Python 3",
   "language": "python",
   "name": "python3"
  },
  "language_info": {
   "codemirror_mode": {
    "name": "ipython",
    "version": 3
   },
   "file_extension": ".py",
   "mimetype": "text/x-python",
   "name": "python",
   "nbconvert_exporter": "python",
   "pygments_lexer": "ipython3",
   "version": "3.6.8"
  }
 },
 "nbformat": 4,
 "nbformat_minor": 2
}
